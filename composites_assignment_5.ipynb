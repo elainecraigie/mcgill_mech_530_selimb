{
 "metadata": {
  "name": "",
  "signature": "sha256:bac92507d2cbefefcaba227e7b851dae5334caee0a896c22f164cd2850efe07b"
 },
 "nbformat": 3,
 "nbformat_minor": 0,
 "worksheets": [
  {
   "cells": [
    {
     "cell_type": "code",
     "collapsed": false,
     "input": [
      "%matplotlib inline\n",
      "from composites.sim import Sim,ureg,Q_\n",
      "from composites.laminate import Laminate\n",
      "import matplotlib.pyplot as plt\n",
      "import numpy as np"
     ],
     "language": "python",
     "metadata": {},
     "outputs": [],
     "prompt_number": 1
    },
    {
     "cell_type": "code",
     "collapsed": false,
     "input": [
      "#Create a Simulation object composed of a laminate.\n",
      "sim = Sim(laminate = Laminate('0_2/p25/0_2s',\n",
      "                               materialID = 5, #5\n",
      "                               core_thick = 0.01))"
     ],
     "language": "python",
     "metadata": {},
     "outputs": [],
     "prompt_number": 2
    },
    {
     "cell_type": "markdown",
     "metadata": {},
     "source": [
      "**Ply orientation list **"
     ]
    },
    {
     "cell_type": "code",
     "collapsed": false,
     "input": [
      "print sim.laminate.print_orientation()"
     ],
     "language": "python",
     "metadata": {},
     "outputs": [
      {
       "output_type": "stream",
       "stream": "stdout",
       "text": [
        "Orientation [degrees] : \n",
        "[0, 0, 25, -25, 0, 0, 0, 0, -25, 25, 0, 0]\n"
       ]
      }
     ],
     "prompt_number": 3
    },
    {
     "cell_type": "markdown",
     "metadata": {},
     "source": [
      "**Number of plies **"
     ]
    },
    {
     "cell_type": "code",
     "collapsed": false,
     "input": [
      "print sim.laminate.num_of_layers()"
     ],
     "language": "python",
     "metadata": {},
     "outputs": [
      {
       "output_type": "stream",
       "stream": "stdout",
       "text": [
        "12\n"
       ]
      }
     ],
     "prompt_number": 4
    },
    {
     "cell_type": "markdown",
     "metadata": {},
     "source": [
      "**Material properties **"
     ]
    },
    {
     "cell_type": "code",
     "collapsed": false,
     "input": [
      "params = sim.laminate.print_param()\n",
      "print params"
     ],
     "language": "python",
     "metadata": {},
     "outputs": [
      {
       "output_type": "stream",
       "stream": "stdout",
       "text": [
        "Graphite/Thermoplastic\n",
        "'          ID :                      5  [-]'\n",
        "'fiber/matrix :               AS4/PEEK  [-]'\n",
        "'        name : Graphite/Thermoplastic  [-]'\n",
        "'          ex :               134.0000  [GPA]'\n",
        "'          ey :                 8.9000  [GPA]'\n",
        "'          es :                 5.1000  [GPA]'\n",
        "'         nux :                 0.2800  [-]'\n",
        "'          xt :              2130.0000  [MPA]'\n",
        "'          xc :              1100.0000  [MPA]'\n",
        "'          yt :                80.0000  [MPA]'\n",
        "'          yc :               200.0000  [MPA]'\n",
        "'          sc :               160.0000  [MPA]'\n",
        "'          h0 :                 0.1250  [mm]'\n",
        "'         nuy :                 0.0186  [-]'\n",
        "\n"
       ]
      }
     ],
     "prompt_number": 5
    },
    {
     "cell_type": "markdown",
     "metadata": {},
     "source": [
      "**Thickness**"
     ]
    },
    {
     "cell_type": "code",
     "collapsed": false,
     "input": [
      "print \"Total thickness : %7.6f [m]\" % sim.laminate.total_thickness\n",
      "print \"Ply thickness   : %7.6f [m]\" % sim.laminate.total_ply_thickness"
     ],
     "language": "python",
     "metadata": {},
     "outputs": [
      {
       "output_type": "stream",
       "stream": "stdout",
       "text": [
        "Total thickness : 0.011500 [m]\n",
        "Ply thickness   : 0.001500 [m]\n"
       ]
      }
     ],
     "prompt_number": 6
    },
    {
     "cell_type": "markdown",
     "metadata": {},
     "source": [
      "**On-axis Modulus and Compliance matrices -- [Q] and [S] **"
     ]
    },
    {
     "cell_type": "code",
     "collapsed": false,
     "input": [
      "print sim.laminate.print_array('QSon',1)"
     ],
     "language": "python",
     "metadata": {},
     "outputs": [
      {
       "output_type": "stream",
       "stream": "stdout",
       "text": [
        "S_on [1/GPa] : \n",
        "[[   0.0075   -0.0021    0.0000]\n",
        " [  -0.0021    0.1124    0.0000]\n",
        " [   0.0000    0.0000    0.1961]]\n",
        "U's for S [1/GPa]\n",
        "U1 :  0.0689\n",
        "U2 : -0.0524\n",
        "U3 : -0.0090\n",
        "U4 : -0.0111\n",
        "U5 :  0.1600\n",
        "\n",
        "Q_on [GPa] : \n",
        "[[ 134.7014    2.5050    0.0000]\n",
        " [   2.5050    8.9466    0.0000]\n",
        " [   0.0000    0.0000    5.1000]]\n",
        "U's for Q [GPa]\n",
        "U1 : 57.0443\n",
        "U2 : 62.8774\n",
        "U3 : 14.7797\n",
        "U4 : 17.2848\n",
        "U5 : 19.8797\n",
        "\n",
        "\n",
        "\n"
       ]
      }
     ],
     "prompt_number": 7
    },
    {
     "cell_type": "markdown",
     "metadata": {},
     "source": [
      "**In-plane Modulus and Compliance -- [A] and [a]**"
     ]
    },
    {
     "cell_type": "code",
     "collapsed": false,
     "input": [
      "print sim.laminate.print_A()"
     ],
     "language": "python",
     "metadata": {},
     "outputs": [
      {
       "output_type": "stream",
       "stream": "stdout",
       "text": [
        "A [GN/m] : \n",
        "[[   0.1821    0.0124    0.0000]\n",
        " [   0.0124    0.0160    0.0000]\n",
        " [   0.0000    0.0000    0.0163]]\n",
        "a [m/GN] : \n",
        "[[   5.7979   -4.5109   -0.0000]\n",
        " [  -4.5109   66.0994   -0.0000]\n",
        " [   0.0000    0.0000   61.2628]]\n"
       ]
      }
     ],
     "prompt_number": 8
    },
    {
     "cell_type": "markdown",
     "metadata": {},
     "source": [
      "**Flexural Modulus and Compliance -- [D] and [d]**"
     ]
    },
    {
     "cell_type": "code",
     "collapsed": false,
     "input": [
      "print sim.laminate.print_D()"
     ],
     "language": "python",
     "metadata": {},
     "outputs": [
      {
       "output_type": "stream",
       "stream": "stdout",
       "text": [
        "D [kNm] : \n",
        "[[   5.2718    0.3594    0.0130]\n",
        " [   0.3594    0.4622    0.0032]\n",
        " [   0.0130    0.0032    0.4720]]\n",
        "d [1/MNm] : \n",
        "[[ 200.3143 -155.6995   -4.4529]\n",
        " [-155.6995 2284.5488  -11.2113]\n",
        " [  -4.4529  -11.2113 2118.8941]]\n"
       ]
      }
     ],
     "prompt_number": 9
    },
    {
     "cell_type": "code",
     "collapsed": false,
     "input": [
      "#Define and apply load\n",
      "P = Q_(1000,'N'); b = Q_(0.11,'m'); L = Q_(0.51,'m')\n",
      "M1 = -P*L/(4*b); N1 = 0.5*P/b;\n",
      "M = Q_([M1.magnitude,0,0],M1.units)\n",
      "N = Q_([N1.magnitude,0,0],N1.units)\n",
      "print M\n",
      "print N"
     ],
     "language": "python",
     "metadata": {},
     "outputs": [
      {
       "output_type": "stream",
       "stream": "stdout",
       "text": [
        "[-1159.0909    0.0000    0.0000] newton\n",
        "[4545.4545    0.0000    0.0000] newton / meter\n"
       ]
      }
     ],
     "prompt_number": 14
    },
    {
     "cell_type": "markdown",
     "metadata": {},
     "source": [
      "**Loads**"
     ]
    },
    {
     "cell_type": "code",
     "collapsed": false,
     "input": [
      "print \"M [N] : \"\n",
      "print [M1,0,0]\n",
      "print \"\\nN [N/m] : \"\n",
      "print [0,0,0]"
     ],
     "language": "python",
     "metadata": {},
     "outputs": [
      {
       "output_type": "stream",
       "stream": "stdout",
       "text": [
        "M [N] : \n",
        "[<Quantity(-1159.09090909, 'newton')>, 0, 0]\n",
        "\n",
        "N [N/m] : \n",
        "[0, 0, 0]\n"
       ]
      }
     ],
     "prompt_number": 16
    },
    {
     "cell_type": "code",
     "collapsed": false,
     "input": [
      "#Apply load\n",
      "sim.apply_M(M)\n",
      "sim.apply_N(N)"
     ],
     "language": "python",
     "metadata": {},
     "outputs": [
      {
       "ename": "DimensionalityError",
       "evalue": "Cannot convert from 'newton / meter' ([mass] / [time] ** 2) to 'giganewtonpermeter' ([length] ** 2 * [mass] / [time] ** 2)",
       "output_type": "pyerr",
       "traceback": [
        "\u001b[1;31m---------------------------------------------------------------------------\u001b[0m\n\u001b[1;31mDimensionalityError\u001b[0m                       Traceback (most recent call last)",
        "\u001b[1;32m<ipython-input-15-d42104a63366>\u001b[0m in \u001b[0;36m<module>\u001b[1;34m()\u001b[0m\n\u001b[0;32m      1\u001b[0m \u001b[1;31m#Apply load\u001b[0m\u001b[1;33m\u001b[0m\u001b[1;33m\u001b[0m\u001b[0m\n\u001b[0;32m      2\u001b[0m \u001b[0msim\u001b[0m\u001b[1;33m.\u001b[0m\u001b[0mapply_M\u001b[0m\u001b[1;33m(\u001b[0m\u001b[0mM\u001b[0m\u001b[1;33m)\u001b[0m\u001b[1;33m\u001b[0m\u001b[0m\n\u001b[1;32m----> 3\u001b[1;33m \u001b[0msim\u001b[0m\u001b[1;33m.\u001b[0m\u001b[0mapply_N\u001b[0m\u001b[1;33m(\u001b[0m\u001b[0mN\u001b[0m\u001b[1;33m)\u001b[0m\u001b[1;33m\u001b[0m\u001b[0m\n\u001b[0m",
        "\u001b[1;32mC:\\Python27\\lib\\site-packages\\pint\\unit.pyc\u001b[0m in \u001b[0;36mwrapper\u001b[1;34m(*values, **kw)\u001b[0m\n\u001b[0;32m   1229\u001b[0m                         \u001b[0mnew_args\u001b[0m\u001b[1;33m.\u001b[0m\u001b[0mappend\u001b[0m\u001b[1;33m(\u001b[0m\u001b[0mvalue\u001b[0m\u001b[1;33m)\u001b[0m\u001b[1;33m\u001b[0m\u001b[0m\n\u001b[0;32m   1230\u001b[0m                     \u001b[1;32melif\u001b[0m \u001b[0misinstance\u001b[0m\u001b[1;33m(\u001b[0m\u001b[0mvalue\u001b[0m\u001b[1;33m,\u001b[0m \u001b[0mQ_\u001b[0m\u001b[1;33m)\u001b[0m\u001b[1;33m:\u001b[0m\u001b[1;33m\u001b[0m\u001b[0m\n\u001b[1;32m-> 1231\u001b[1;33m                         \u001b[0mnew_args\u001b[0m\u001b[1;33m.\u001b[0m\u001b[0mappend\u001b[0m\u001b[1;33m(\u001b[0m\u001b[0mself\u001b[0m\u001b[1;33m.\u001b[0m\u001b[0mconvert\u001b[0m\u001b[1;33m(\u001b[0m\u001b[0mvalue\u001b[0m\u001b[1;33m.\u001b[0m\u001b[0mmagnitude\u001b[0m\u001b[1;33m,\u001b[0m \u001b[0mvalue\u001b[0m\u001b[1;33m.\u001b[0m\u001b[0munits\u001b[0m\u001b[1;33m,\u001b[0m \u001b[0munit\u001b[0m\u001b[1;33m)\u001b[0m\u001b[1;33m)\u001b[0m\u001b[1;33m\u001b[0m\u001b[0m\n\u001b[0m\u001b[0;32m   1232\u001b[0m                     \u001b[1;32melif\u001b[0m \u001b[1;32mnot\u001b[0m \u001b[0mstrict\u001b[0m\u001b[1;33m:\u001b[0m\u001b[1;33m\u001b[0m\u001b[0m\n\u001b[0;32m   1233\u001b[0m                         \u001b[0mnew_args\u001b[0m\u001b[1;33m.\u001b[0m\u001b[0mappend\u001b[0m\u001b[1;33m(\u001b[0m\u001b[0mvalue\u001b[0m\u001b[1;33m)\u001b[0m\u001b[1;33m\u001b[0m\u001b[0m\n",
        "\u001b[1;32mC:\\Python27\\lib\\site-packages\\pint\\unit.pyc\u001b[0m in \u001b[0;36mconvert\u001b[1;34m(self, value, src, dst, inplace)\u001b[0m\n\u001b[0;32m    996\u001b[0m \u001b[1;33m\u001b[0m\u001b[0m\n\u001b[0;32m    997\u001b[0m         \u001b[1;32mif\u001b[0m \u001b[0msrc_dim\u001b[0m \u001b[1;33m!=\u001b[0m \u001b[0mdst_dim\u001b[0m\u001b[1;33m:\u001b[0m\u001b[1;33m\u001b[0m\u001b[0m\n\u001b[1;32m--> 998\u001b[1;33m             \u001b[1;32mraise\u001b[0m \u001b[0mDimensionalityError\u001b[0m\u001b[1;33m(\u001b[0m\u001b[0msrc\u001b[0m\u001b[1;33m,\u001b[0m \u001b[0mdst\u001b[0m\u001b[1;33m,\u001b[0m \u001b[0msrc_dim\u001b[0m\u001b[1;33m,\u001b[0m \u001b[0mdst_dim\u001b[0m\u001b[1;33m)\u001b[0m\u001b[1;33m\u001b[0m\u001b[0m\n\u001b[0m\u001b[0;32m    999\u001b[0m \u001b[1;33m\u001b[0m\u001b[0m\n\u001b[0;32m   1000\u001b[0m         \u001b[1;32mif\u001b[0m \u001b[0mlen\u001b[0m\u001b[1;33m(\u001b[0m\u001b[0msrc\u001b[0m\u001b[1;33m)\u001b[0m \u001b[1;33m==\u001b[0m \u001b[1;36m1\u001b[0m\u001b[1;33m:\u001b[0m\u001b[1;33m\u001b[0m\u001b[0m\n",
        "\u001b[1;31mDimensionalityError\u001b[0m: Cannot convert from 'newton / meter' ([mass] / [time] ** 2) to 'giganewtonpermeter' ([length] ** 2 * [mass] / [time] ** 2)"
       ]
      }
     ],
     "prompt_number": 15
    },
    {
     "cell_type": "markdown",
     "metadata": {},
     "source": [
      "**Curvature**"
     ]
    },
    {
     "cell_type": "code",
     "collapsed": false,
     "input": [
      "print \"K [1/m] :\"\n",
      "print sim.k"
     ],
     "language": "python",
     "metadata": {},
     "outputs": [
      {
       "output_type": "stream",
       "stream": "stdout",
       "text": [
        "K [1/m] :\n",
        "[  -0.5748    0.4468    0.0128]\n"
       ]
      }
     ],
     "prompt_number": 13
    },
    {
     "cell_type": "markdown",
     "metadata": {},
     "source": [
      "**Results**"
     ]
    },
    {
     "cell_type": "code",
     "collapsed": false,
     "input": [
      "#Require pandas 0.14.1+\n",
      "df = sim.return_results()\n",
      "df\n",
      "# print df.to_latex(escape = False,longtable = True)\n",
      "# print \"See Appendix A\"\n",
      "# from wand.image import Image as WImage\n",
      "# img = WImage(filename='docs/ass4/tables.pdf')\n",
      "# img"
     ],
     "language": "python",
     "metadata": {},
     "outputs": [
      {
       "html": [
        "<div style=\"max-height:1000px;max-width:1500px;overflow:auto;\">\n",
        "<table border=\"1\" class=\"dataframe\">\n",
        "  <thead>\n",
        "    <tr style=\"text-align: right;\">\n",
        "      <th></th>\n",
        "      <th>$\\epsilon_1$</th>\n",
        "      <th>$\\epsilon_2$</th>\n",
        "      <th>$\\epsilon_6$</th>\n",
        "      <th>$\\epsilon_x$</th>\n",
        "      <th>$\\epsilon_y$</th>\n",
        "      <th>$\\epsilon_s$</th>\n",
        "      <th>$\\sigma_x$</th>\n",
        "      <th>$\\sigma_y$</th>\n",
        "      <th>$\\sigma_s$</th>\n",
        "    </tr>\n",
        "    <tr>\n",
        "      <th>Ply Number</th>\n",
        "      <th></th>\n",
        "      <th></th>\n",
        "      <th></th>\n",
        "      <th></th>\n",
        "      <th></th>\n",
        "      <th></th>\n",
        "      <th></th>\n",
        "      <th></th>\n",
        "      <th></th>\n",
        "    </tr>\n",
        "  </thead>\n",
        "  <tbody>\n",
        "    <tr>\n",
        "      <th>0 (0$^\\circ$) - Bot</th>\n",
        "      <td> 0.0033</td>\n",
        "      <td>-0.0026</td>\n",
        "      <td>-0.0001</td>\n",
        "      <td> 0.0033</td>\n",
        "      <td>-0.0026</td>\n",
        "      <td>-0.0001</td>\n",
        "      <td> 0.4388</td>\n",
        "      <td>-0.0147</td>\n",
        "      <td>-0.0004</td>\n",
        "    </tr>\n",
        "    <tr>\n",
        "      <th>0 (0$^\\circ$) - Top</th>\n",
        "      <td> 0.0032</td>\n",
        "      <td>-0.0025</td>\n",
        "      <td>-0.0001</td>\n",
        "      <td> 0.0032</td>\n",
        "      <td>-0.0025</td>\n",
        "      <td>-0.0001</td>\n",
        "      <td> 0.4292</td>\n",
        "      <td>-0.0144</td>\n",
        "      <td>-0.0004</td>\n",
        "    </tr>\n",
        "    <tr>\n",
        "      <th>1 (0$^\\circ$) - Bot</th>\n",
        "      <td> 0.0032</td>\n",
        "      <td>-0.0025</td>\n",
        "      <td>-0.0001</td>\n",
        "      <td> 0.0032</td>\n",
        "      <td>-0.0025</td>\n",
        "      <td>-0.0001</td>\n",
        "      <td> 0.4292</td>\n",
        "      <td>-0.0144</td>\n",
        "      <td>-0.0004</td>\n",
        "    </tr>\n",
        "    <tr>\n",
        "      <th>1 (0$^\\circ$) - Top</th>\n",
        "      <td> 0.0032</td>\n",
        "      <td>-0.0025</td>\n",
        "      <td>-0.0001</td>\n",
        "      <td> 0.0032</td>\n",
        "      <td>-0.0025</td>\n",
        "      <td>-0.0001</td>\n",
        "      <td> 0.4197</td>\n",
        "      <td>-0.0141</td>\n",
        "      <td>-0.0004</td>\n",
        "    </tr>\n",
        "    <tr>\n",
        "      <th>2 (25$^\\circ$) - Bot</th>\n",
        "      <td> 0.0032</td>\n",
        "      <td>-0.0025</td>\n",
        "      <td>-0.0001</td>\n",
        "      <td> 0.0021</td>\n",
        "      <td>-0.0014</td>\n",
        "      <td>-0.0043</td>\n",
        "      <td> 0.2835</td>\n",
        "      <td>-0.0074</td>\n",
        "      <td>-0.0222</td>\n",
        "    </tr>\n",
        "    <tr>\n",
        "      <th>2 (25$^\\circ$) - Top</th>\n",
        "      <td> 0.0031</td>\n",
        "      <td>-0.0024</td>\n",
        "      <td>-0.0001</td>\n",
        "      <td> 0.0021</td>\n",
        "      <td>-0.0014</td>\n",
        "      <td>-0.0043</td>\n",
        "      <td> 0.2770</td>\n",
        "      <td>-0.0073</td>\n",
        "      <td>-0.0217</td>\n",
        "    </tr>\n",
        "    <tr>\n",
        "      <th>3 (-25$^\\circ$) - Bot</th>\n",
        "      <td> 0.0031</td>\n",
        "      <td>-0.0024</td>\n",
        "      <td>-0.0001</td>\n",
        "      <td> 0.0021</td>\n",
        "      <td>-0.0014</td>\n",
        "      <td> 0.0042</td>\n",
        "      <td> 0.2840</td>\n",
        "      <td>-0.0076</td>\n",
        "      <td> 0.0212</td>\n",
        "    </tr>\n",
        "    <tr>\n",
        "      <th>3 (-25$^\\circ$) - Top</th>\n",
        "      <td> 0.0030</td>\n",
        "      <td>-0.0023</td>\n",
        "      <td>-0.0001</td>\n",
        "      <td> 0.0021</td>\n",
        "      <td>-0.0014</td>\n",
        "      <td> 0.0041</td>\n",
        "      <td> 0.2774</td>\n",
        "      <td>-0.0074</td>\n",
        "      <td> 0.0207</td>\n",
        "    </tr>\n",
        "    <tr>\n",
        "      <th>4 (0$^\\circ$) - Bot</th>\n",
        "      <td> 0.0030</td>\n",
        "      <td>-0.0023</td>\n",
        "      <td>-0.0001</td>\n",
        "      <td> 0.0030</td>\n",
        "      <td>-0.0023</td>\n",
        "      <td>-0.0001</td>\n",
        "      <td> 0.4006</td>\n",
        "      <td>-0.0134</td>\n",
        "      <td>-0.0003</td>\n",
        "    </tr>\n",
        "    <tr>\n",
        "      <th>4 (0$^\\circ$) - Top</th>\n",
        "      <td> 0.0029</td>\n",
        "      <td>-0.0023</td>\n",
        "      <td>-0.0001</td>\n",
        "      <td> 0.0029</td>\n",
        "      <td>-0.0023</td>\n",
        "      <td>-0.0001</td>\n",
        "      <td> 0.3911</td>\n",
        "      <td>-0.0131</td>\n",
        "      <td>-0.0003</td>\n",
        "    </tr>\n",
        "    <tr>\n",
        "      <th>5 (0$^\\circ$) - Bot</th>\n",
        "      <td> 0.0029</td>\n",
        "      <td>-0.0023</td>\n",
        "      <td>-0.0001</td>\n",
        "      <td> 0.0029</td>\n",
        "      <td>-0.0023</td>\n",
        "      <td>-0.0001</td>\n",
        "      <td> 0.3911</td>\n",
        "      <td>-0.0131</td>\n",
        "      <td>-0.0003</td>\n",
        "    </tr>\n",
        "    <tr>\n",
        "      <th>5 (0$^\\circ$) - Top</th>\n",
        "      <td> 0.0029</td>\n",
        "      <td>-0.0022</td>\n",
        "      <td>-0.0001</td>\n",
        "      <td> 0.0029</td>\n",
        "      <td>-0.0022</td>\n",
        "      <td>-0.0001</td>\n",
        "      <td> 0.3815</td>\n",
        "      <td>-0.0128</td>\n",
        "      <td>-0.0003</td>\n",
        "    </tr>\n",
        "    <tr>\n",
        "      <th>6 (0$^\\circ$) - Bot</th>\n",
        "      <td>-0.0029</td>\n",
        "      <td> 0.0022</td>\n",
        "      <td> 0.0001</td>\n",
        "      <td>-0.0029</td>\n",
        "      <td> 0.0022</td>\n",
        "      <td> 0.0001</td>\n",
        "      <td>-0.3815</td>\n",
        "      <td> 0.0128</td>\n",
        "      <td> 0.0003</td>\n",
        "    </tr>\n",
        "    <tr>\n",
        "      <th>6 (0$^\\circ$) - Top</th>\n",
        "      <td>-0.0029</td>\n",
        "      <td> 0.0023</td>\n",
        "      <td> 0.0001</td>\n",
        "      <td>-0.0029</td>\n",
        "      <td> 0.0023</td>\n",
        "      <td> 0.0001</td>\n",
        "      <td>-0.3911</td>\n",
        "      <td> 0.0131</td>\n",
        "      <td> 0.0003</td>\n",
        "    </tr>\n",
        "    <tr>\n",
        "      <th>7 (0$^\\circ$) - Bot</th>\n",
        "      <td>-0.0029</td>\n",
        "      <td> 0.0023</td>\n",
        "      <td> 0.0001</td>\n",
        "      <td>-0.0029</td>\n",
        "      <td> 0.0023</td>\n",
        "      <td> 0.0001</td>\n",
        "      <td>-0.3911</td>\n",
        "      <td> 0.0131</td>\n",
        "      <td> 0.0003</td>\n",
        "    </tr>\n",
        "    <tr>\n",
        "      <th>7 (0$^\\circ$) - Top</th>\n",
        "      <td>-0.0030</td>\n",
        "      <td> 0.0023</td>\n",
        "      <td> 0.0001</td>\n",
        "      <td>-0.0030</td>\n",
        "      <td> 0.0023</td>\n",
        "      <td> 0.0001</td>\n",
        "      <td>-0.4006</td>\n",
        "      <td> 0.0134</td>\n",
        "      <td> 0.0003</td>\n",
        "    </tr>\n",
        "    <tr>\n",
        "      <th>8 (-25$^\\circ$) - Bot</th>\n",
        "      <td>-0.0030</td>\n",
        "      <td> 0.0023</td>\n",
        "      <td> 0.0001</td>\n",
        "      <td>-0.0021</td>\n",
        "      <td> 0.0014</td>\n",
        "      <td>-0.0041</td>\n",
        "      <td>-0.2774</td>\n",
        "      <td> 0.0074</td>\n",
        "      <td>-0.0207</td>\n",
        "    </tr>\n",
        "    <tr>\n",
        "      <th>8 (-25$^\\circ$) - Top</th>\n",
        "      <td>-0.0031</td>\n",
        "      <td> 0.0024</td>\n",
        "      <td> 0.0001</td>\n",
        "      <td>-0.0021</td>\n",
        "      <td> 0.0014</td>\n",
        "      <td>-0.0042</td>\n",
        "      <td>-0.2840</td>\n",
        "      <td> 0.0076</td>\n",
        "      <td>-0.0212</td>\n",
        "    </tr>\n",
        "    <tr>\n",
        "      <th>9 (25$^\\circ$) - Bot</th>\n",
        "      <td>-0.0031</td>\n",
        "      <td> 0.0024</td>\n",
        "      <td> 0.0001</td>\n",
        "      <td>-0.0021</td>\n",
        "      <td> 0.0014</td>\n",
        "      <td> 0.0043</td>\n",
        "      <td>-0.2770</td>\n",
        "      <td> 0.0073</td>\n",
        "      <td> 0.0217</td>\n",
        "    </tr>\n",
        "    <tr>\n",
        "      <th>9 (25$^\\circ$) - Top</th>\n",
        "      <td>-0.0032</td>\n",
        "      <td> 0.0025</td>\n",
        "      <td> 0.0001</td>\n",
        "      <td>-0.0021</td>\n",
        "      <td> 0.0014</td>\n",
        "      <td> 0.0043</td>\n",
        "      <td>-0.2835</td>\n",
        "      <td> 0.0074</td>\n",
        "      <td> 0.0222</td>\n",
        "    </tr>\n",
        "    <tr>\n",
        "      <th>10 (0$^\\circ$) - Bot</th>\n",
        "      <td>-0.0032</td>\n",
        "      <td> 0.0025</td>\n",
        "      <td> 0.0001</td>\n",
        "      <td>-0.0032</td>\n",
        "      <td> 0.0025</td>\n",
        "      <td> 0.0001</td>\n",
        "      <td>-0.4197</td>\n",
        "      <td> 0.0141</td>\n",
        "      <td> 0.0004</td>\n",
        "    </tr>\n",
        "    <tr>\n",
        "      <th>10 (0$^\\circ$) - Top</th>\n",
        "      <td>-0.0032</td>\n",
        "      <td> 0.0025</td>\n",
        "      <td> 0.0001</td>\n",
        "      <td>-0.0032</td>\n",
        "      <td> 0.0025</td>\n",
        "      <td> 0.0001</td>\n",
        "      <td>-0.4292</td>\n",
        "      <td> 0.0144</td>\n",
        "      <td> 0.0004</td>\n",
        "    </tr>\n",
        "    <tr>\n",
        "      <th>11 (0$^\\circ$) - Bot</th>\n",
        "      <td>-0.0032</td>\n",
        "      <td> 0.0025</td>\n",
        "      <td> 0.0001</td>\n",
        "      <td>-0.0032</td>\n",
        "      <td> 0.0025</td>\n",
        "      <td> 0.0001</td>\n",
        "      <td>-0.4292</td>\n",
        "      <td> 0.0144</td>\n",
        "      <td> 0.0004</td>\n",
        "    </tr>\n",
        "    <tr>\n",
        "      <th>11 (0$^\\circ$) - Top</th>\n",
        "      <td>-0.0033</td>\n",
        "      <td> 0.0026</td>\n",
        "      <td> 0.0001</td>\n",
        "      <td>-0.0033</td>\n",
        "      <td> 0.0026</td>\n",
        "      <td> 0.0001</td>\n",
        "      <td>-0.4388</td>\n",
        "      <td> 0.0147</td>\n",
        "      <td> 0.0004</td>\n",
        "    </tr>\n",
        "  </tbody>\n",
        "</table>\n",
        "</div>"
       ],
       "metadata": {},
       "output_type": "pyout",
       "prompt_number": 15,
       "text": [
        "                       $\\epsilon_1$  $\\epsilon_2$  $\\epsilon_6$  $\\epsilon_x$  \\\n",
        "Ply Number                                                                      \n",
        "0 (0$^\\circ$) - Bot          0.0033       -0.0026       -0.0001        0.0033   \n",
        "0 (0$^\\circ$) - Top          0.0032       -0.0025       -0.0001        0.0032   \n",
        "1 (0$^\\circ$) - Bot          0.0032       -0.0025       -0.0001        0.0032   \n",
        "1 (0$^\\circ$) - Top          0.0032       -0.0025       -0.0001        0.0032   \n",
        "2 (25$^\\circ$) - Bot         0.0032       -0.0025       -0.0001        0.0021   \n",
        "2 (25$^\\circ$) - Top         0.0031       -0.0024       -0.0001        0.0021   \n",
        "3 (-25$^\\circ$) - Bot        0.0031       -0.0024       -0.0001        0.0021   \n",
        "3 (-25$^\\circ$) - Top        0.0030       -0.0023       -0.0001        0.0021   \n",
        "4 (0$^\\circ$) - Bot          0.0030       -0.0023       -0.0001        0.0030   \n",
        "4 (0$^\\circ$) - Top          0.0029       -0.0023       -0.0001        0.0029   \n",
        "5 (0$^\\circ$) - Bot          0.0029       -0.0023       -0.0001        0.0029   \n",
        "5 (0$^\\circ$) - Top          0.0029       -0.0022       -0.0001        0.0029   \n",
        "6 (0$^\\circ$) - Bot         -0.0029        0.0022        0.0001       -0.0029   \n",
        "6 (0$^\\circ$) - Top         -0.0029        0.0023        0.0001       -0.0029   \n",
        "7 (0$^\\circ$) - Bot         -0.0029        0.0023        0.0001       -0.0029   \n",
        "7 (0$^\\circ$) - Top         -0.0030        0.0023        0.0001       -0.0030   \n",
        "8 (-25$^\\circ$) - Bot       -0.0030        0.0023        0.0001       -0.0021   \n",
        "8 (-25$^\\circ$) - Top       -0.0031        0.0024        0.0001       -0.0021   \n",
        "9 (25$^\\circ$) - Bot        -0.0031        0.0024        0.0001       -0.0021   \n",
        "9 (25$^\\circ$) - Top        -0.0032        0.0025        0.0001       -0.0021   \n",
        "10 (0$^\\circ$) - Bot        -0.0032        0.0025        0.0001       -0.0032   \n",
        "10 (0$^\\circ$) - Top        -0.0032        0.0025        0.0001       -0.0032   \n",
        "11 (0$^\\circ$) - Bot        -0.0032        0.0025        0.0001       -0.0032   \n",
        "11 (0$^\\circ$) - Top        -0.0033        0.0026        0.0001       -0.0033   \n",
        "\n",
        "                       $\\epsilon_y$  $\\epsilon_s$  $\\sigma_x$  $\\sigma_y$  \\\n",
        "Ply Number                                                                  \n",
        "0 (0$^\\circ$) - Bot         -0.0026       -0.0001      0.4388     -0.0147   \n",
        "0 (0$^\\circ$) - Top         -0.0025       -0.0001      0.4292     -0.0144   \n",
        "1 (0$^\\circ$) - Bot         -0.0025       -0.0001      0.4292     -0.0144   \n",
        "1 (0$^\\circ$) - Top         -0.0025       -0.0001      0.4197     -0.0141   \n",
        "2 (25$^\\circ$) - Bot        -0.0014       -0.0043      0.2835     -0.0074   \n",
        "2 (25$^\\circ$) - Top        -0.0014       -0.0043      0.2770     -0.0073   \n",
        "3 (-25$^\\circ$) - Bot       -0.0014        0.0042      0.2840     -0.0076   \n",
        "3 (-25$^\\circ$) - Top       -0.0014        0.0041      0.2774     -0.0074   \n",
        "4 (0$^\\circ$) - Bot         -0.0023       -0.0001      0.4006     -0.0134   \n",
        "4 (0$^\\circ$) - Top         -0.0023       -0.0001      0.3911     -0.0131   \n",
        "5 (0$^\\circ$) - Bot         -0.0023       -0.0001      0.3911     -0.0131   \n",
        "5 (0$^\\circ$) - Top         -0.0022       -0.0001      0.3815     -0.0128   \n",
        "6 (0$^\\circ$) - Bot          0.0022        0.0001     -0.3815      0.0128   \n",
        "6 (0$^\\circ$) - Top          0.0023        0.0001     -0.3911      0.0131   \n",
        "7 (0$^\\circ$) - Bot          0.0023        0.0001     -0.3911      0.0131   \n",
        "7 (0$^\\circ$) - Top          0.0023        0.0001     -0.4006      0.0134   \n",
        "8 (-25$^\\circ$) - Bot        0.0014       -0.0041     -0.2774      0.0074   \n",
        "8 (-25$^\\circ$) - Top        0.0014       -0.0042     -0.2840      0.0076   \n",
        "9 (25$^\\circ$) - Bot         0.0014        0.0043     -0.2770      0.0073   \n",
        "9 (25$^\\circ$) - Top         0.0014        0.0043     -0.2835      0.0074   \n",
        "10 (0$^\\circ$) - Bot         0.0025        0.0001     -0.4197      0.0141   \n",
        "10 (0$^\\circ$) - Top         0.0025        0.0001     -0.4292      0.0144   \n",
        "11 (0$^\\circ$) - Bot         0.0025        0.0001     -0.4292      0.0144   \n",
        "11 (0$^\\circ$) - Top         0.0026        0.0001     -0.4388      0.0147   \n",
        "\n",
        "                       $\\sigma_s$  \n",
        "Ply Number                         \n",
        "0 (0$^\\circ$) - Bot       -0.0004  \n",
        "0 (0$^\\circ$) - Top       -0.0004  \n",
        "1 (0$^\\circ$) - Bot       -0.0004  \n",
        "1 (0$^\\circ$) - Top       -0.0004  \n",
        "2 (25$^\\circ$) - Bot      -0.0222  \n",
        "2 (25$^\\circ$) - Top      -0.0217  \n",
        "3 (-25$^\\circ$) - Bot      0.0212  \n",
        "3 (-25$^\\circ$) - Top      0.0207  \n",
        "4 (0$^\\circ$) - Bot       -0.0003  \n",
        "4 (0$^\\circ$) - Top       -0.0003  \n",
        "5 (0$^\\circ$) - Bot       -0.0003  \n",
        "5 (0$^\\circ$) - Top       -0.0003  \n",
        "6 (0$^\\circ$) - Bot        0.0003  \n",
        "6 (0$^\\circ$) - Top        0.0003  \n",
        "7 (0$^\\circ$) - Bot        0.0003  \n",
        "7 (0$^\\circ$) - Top        0.0003  \n",
        "8 (-25$^\\circ$) - Bot     -0.0207  \n",
        "8 (-25$^\\circ$) - Top     -0.0212  \n",
        "9 (25$^\\circ$) - Bot       0.0217  \n",
        "9 (25$^\\circ$) - Top       0.0222  \n",
        "10 (0$^\\circ$) - Bot       0.0004  \n",
        "10 (0$^\\circ$) - Top       0.0004  \n",
        "11 (0$^\\circ$) - Bot       0.0004  \n",
        "11 (0$^\\circ$) - Top       0.0004  "
       ]
      }
     ],
     "prompt_number": 15
    },
    {
     "cell_type": "code",
     "collapsed": false,
     "input": [
      "z = sim.laminate.z_array.flatten()"
     ],
     "language": "python",
     "metadata": {},
     "outputs": [],
     "prompt_number": 20
    },
    {
     "cell_type": "markdown",
     "metadata": {},
     "source": [
      "**Strain distribution**"
     ]
    },
    {
     "cell_type": "code",
     "collapsed": false,
     "input": [
      "#http://matplotlib.org/examples/pylab_examples/broken_axis.html\n",
      "f,(ax,ax2) = plt.subplots(2,1,sharex=True)\n",
      "ax.plot(np.vstack(sim.on_strain)[:,0],z,'-bo')\n",
      "ax2.plot(np.vstack(sim.on_strain)[:,0],z,'-bo')\n",
      "ax.set_ylim(0.0049,0.006); ax2.set_ylim(-0.006,-0.0049)\n",
      "ax.spines['bottom'].set_visible(False)\n",
      "ax2.spines['top'].set_visible(False)\n",
      "ax.xaxis.tick_top()\n",
      "ax.tick_params(labeltop='off')\n",
      "ax2.xaxis.tick_bottom()\n",
      "d = 0.01\n",
      "kwargs = dict(transform=ax.transAxes,color = 'k',clip_on = False)\n",
      "ax.plot((-d,+d),(-d,+d), **kwargs)      # top-left diagonal\n",
      "ax.plot((1-d,1+d),(-d,+d), **kwargs)    # top-right diagonal\n",
      "\n",
      "kwargs.update(transform=ax2.transAxes)  # switch to the bottom axes\n",
      "ax2.plot((-d,+d),(1-d,1+d), **kwargs)   # bottom-left diagonal\n",
      "ax2.plot((1-d,1+d),(1-d,1+d), **kwargs) # bottom-right diagonal\n",
      "\n",
      "ax.set_ylabel('Above core');ax2.set_xlabel('On-axis strain')\n",
      "ax2.set_ylabel('Below core')\n",
      "ax.set_title('Height vs on-axis strain' )\n",
      "plt.show()"
     ],
     "language": "python",
     "metadata": {},
     "outputs": [
      {
       "metadata": {},
       "output_type": "display_data",
       "png": "[encoded data removed]",
       "text": [
        "<matplotlib.figure.Figure at 0xf061970>"
       ]
      }
     ],
     "prompt_number": 21
    },
    {
     "cell_type": "markdown",
     "metadata": {},
     "source": [
      "**Maximum strain and deflection**"
     ]
    },
    {
     "cell_type": "code",
     "collapsed": false,
     "input": [
      "del_criterion = 0.5*10**-2; strain_criterion = 0.002"
     ],
     "language": "python",
     "metadata": {},
     "outputs": [],
     "prompt_number": 22
    },
    {
     "cell_type": "code",
     "collapsed": false,
     "input": [
      "delta = P*L**3/(48*b)*(sim.laminate.d[0,0]*10**-9)\n",
      "max_strain = df[u'$\\epsilon_x$'].max()\n",
      "print \"Maximum deflection [cm] : %.4f\"% (delta.magnitude*100)\n",
      "print \"Maximum allowable  [cm] : %.4f\"% (del_criterion*100)\n",
      "if delta.magnitude > del_criterion:\n",
      "    print \"Too large!\"\n",
      "else:\n",
      "    print \"Is fine.\"\n",
      "    \n",
      "print '----' * 10 \n",
      "print \"Maximum strain    [-]  : %.4f\" % max_strain\n",
      "print \"Maximum allowable [-]  : %.4f\" % strain_criterion\n",
      "if max_strain > strain_criterion:\n",
      "    print \"Too large!\"\n",
      "else:\n",
      "    print \"Is fine.\""
     ],
     "language": "python",
     "metadata": {},
     "outputs": [
      {
       "output_type": "stream",
       "stream": "stdout",
       "text": [
        "Maximum deflection [cm] : 1.2952\n",
        "Maximum allowable  [cm] : 0.5000\n",
        "Too large!\n",
        "----------------------------------------\n",
        "Maximum strain    [-]  : 0.0033\n",
        "Maximum allowable [-]  : 0.0020\n",
        "Too large!\n"
       ]
      }
     ],
     "prompt_number": 23
    },
    {
     "cell_type": "code",
     "collapsed": false,
     "input": [
      "import pandas as pd"
     ],
     "language": "python",
     "metadata": {},
     "outputs": [],
     "prompt_number": 13
    },
    {
     "cell_type": "code",
     "collapsed": false,
     "input": [
      "pd.DataFrame()"
     ],
     "language": "python",
     "metadata": {},
     "outputs": []
    }
   ],
   "metadata": {}
  }
 ]
}