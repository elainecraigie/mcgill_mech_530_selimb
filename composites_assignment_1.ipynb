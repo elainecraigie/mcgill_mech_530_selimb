{
 "metadata": {
  "name": "",
  "signature": "sha256:48b0555b0672249b59124d0f9feb2920b6752c7154c06394856361f8fbc9782c"
 },
 "nbformat": 3,
 "nbformat_minor": 0,
 "worksheets": [
  {
   "cells": [
    {
     "cell_type": "markdown",
     "metadata": {},
     "source": [
      "MECH-530 Assignment 1\n",
      "=====================\n",
      "\n",
      "**Selim Belhaouane**\n",
      "**260450544**\n",
      "\n",
      "Question 1)\n",
      "-----------"
     ]
    },
    {
     "cell_type": "code",
     "collapsed": false,
     "input": [
      "cd source"
     ],
     "language": "python",
     "metadata": {},
     "outputs": [
      {
       "output_type": "stream",
       "stream": "stdout",
       "text": [
        "c:\\Users\\Selimb\\Documents\\GitHub\\mech_530\\source\n"
       ]
      }
     ],
     "prompt_number": 1
    },
    {
     "cell_type": "code",
     "collapsed": false,
     "input": [
      "#Module \"laminate\" contains \"Laminate\" class.\n",
      "#Source is available at link at the bottom [1].\n",
      "from laminate import Laminate"
     ],
     "language": "python",
     "metadata": {},
     "outputs": [],
     "prompt_number": 2
    },
    {
     "cell_type": "markdown",
     "metadata": {},
     "source": [
      "Let's define a laminate. An ID and a formatted layup must be given.\n",
      "\n",
      "Core thickness is completely ignored for this assignment."
     ]
    },
    {
     "cell_type": "code",
     "collapsed": false,
     "input": [
      "my_layup = '90_2/p40/p20/0s'\n",
      "my_materialID = 2 #This corresponds to (AS/H3501)\n",
      "my_laminate = Laminate(layup = my_layup, \n",
      "                       materialID = my_materialID)"
     ],
     "language": "python",
     "metadata": {},
     "outputs": [],
     "prompt_number": 3
    },
    {
     "cell_type": "markdown",
     "metadata": {},
     "source": [
      "**Output laminate orientation (ply-by-ply):**"
     ]
    },
    {
     "cell_type": "code",
     "collapsed": false,
     "input": [
      "my_laminate.get_orientation()"
     ],
     "language": "python",
     "metadata": {},
     "outputs": [
      {
       "output_type": "stream",
       "stream": "stdout",
       "text": [
        "Orientation [degrees] : \n",
        "[90, 90, 40, -40, 20, -20, 0, 0, -20, 20, -40, 40, 90, 90]\n"
       ]
      }
     ],
     "prompt_number": 4
    },
    {
     "cell_type": "markdown",
     "metadata": {},
     "source": [
      "**Output material properties**"
     ]
    },
    {
     "cell_type": "code",
     "collapsed": false,
     "input": [
      "my_laminate.print_param()"
     ],
     "language": "python",
     "metadata": {},
     "outputs": [
      {
       "output_type": "stream",
       "stream": "stdout",
       "text": [
        "'          ID :              2  [-]'\n",
        "'fiber/matrix :       AS/H3501  [-]'\n",
        "'        name : Graphite/Epoxy  [-]'\n",
        "'          ex :      1.380e+02  [GPA]'\n",
        "'          ey :          8.960  [GPA]'\n",
        "'          es :          7.100  [GPA]'\n",
        "'         nux :          0.300  [-]'\n",
        "'          xt :      1.447e+03  [MPA]'\n",
        "'          xc :      1.447e+03  [MPA]'\n",
        "'          yt :         51.700  [MPA]'\n",
        "'          yc :      2.060e+02  [MPA]'\n",
        "'          sc :           93.0  [MPA]'\n",
        "'          h0 :          0.125  [mm]'\n",
        "'         nuy :           0.02  [-]'\n",
        "\n"
       ]
      }
     ],
     "prompt_number": 5
    },
    {
     "cell_type": "markdown",
     "metadata": {},
     "source": [
      "Question 2)\n",
      "-----------\n",
      "**Output \"on-axis\" [S] and [Q] matrices for first layer**\n",
      "\n",
      "**Verify that [S] and [Q] are the same for each layer**"
     ]
    },
    {
     "cell_type": "code",
     "collapsed": false,
     "input": [
      "first_pass = True\n",
      "for a_layer in my_laminate.layers:\n",
      "    Q_new,S_new = a_layer.get_matrix('QSon', \n",
      "                                     do_print = first_pass)\n",
      "    if first_pass:\n",
      "        first_pass = False\n",
      "        Q_old,S_old = Q_new,S_new\n",
      "    else: \n",
      "        assert(Q_new.all() == Q_old.all() and \n",
      "               S_new.all() == S_old.all()\n",
      "               ) #[2]"
     ],
     "language": "python",
     "metadata": {},
     "outputs": [
      {
       "output_type": "stream",
       "stream": "stdout",
       "text": [
        "S_on [1/GPa] : \n",
        "[[7.246e-03 -2.174e-03       0.0]\n",
        " [-2.174e-03     0.112       0.0]\n",
        " [      0.0       0.0     0.141]]\n",
        "Q_on [GPa] : \n",
        "[[1.388e+02     2.704       0.0]\n",
        " [    2.704     9.013       0.0]\n",
        " [      0.0       0.0     7.100]]\n"
       ]
      }
     ],
     "prompt_number": 6
    },
    {
     "cell_type": "markdown",
     "metadata": {},
     "source": [
      "Footnotes\n",
      "---------\n",
      "\n",
      "**[1]** : http://bit.ly/selimb_HW1_mech530\n",
      "    \n",
      "**[2]** : assert(*expr*) returns an *AssertionError* if *expr* is *False*.   \n",
      "No errors returned in this case"
     ]
    }
   ],
   "metadata": {}
  }
 ]
}