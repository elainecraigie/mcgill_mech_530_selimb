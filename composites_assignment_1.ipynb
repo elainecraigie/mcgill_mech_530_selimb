{
 "metadata": {
  "name": "",
  "signature": "sha256:4312f5ca3740193caa1b0e73bb71f70c22b2208d10c0fbb0dd6d6e2a14a82fce"
 },
 "nbformat": 3,
 "nbformat_minor": 0,
 "worksheets": [
  {
   "cells": [
    {
     "cell_type": "markdown",
     "metadata": {},
     "source": [
      "Question 1)\n",
      "-----------"
     ]
    },
    {
     "cell_type": "code",
     "collapsed": false,
     "input": [
      "cd composites"
     ],
     "language": "python",
     "metadata": {},
     "outputs": [
      {
       "output_type": "stream",
       "stream": "stdout",
       "text": [
        "c:\\Users\\Selimb\\Documents\\GitHub\\mech_530\\composites\n"
       ]
      }
     ],
     "prompt_number": 1
    },
    {
     "cell_type": "code",
     "collapsed": false,
     "input": [
      "#Module \"laminate\" contains \"Laminate\" class.\n",
      "#Source is available at link at the bottom [1].\n",
      "from laminate import Laminate"
     ],
     "language": "python",
     "metadata": {},
     "outputs": [],
     "prompt_number": 2
    },
    {
     "cell_type": "markdown",
     "metadata": {},
     "source": [
      "-------------------------------------------------------------------\n",
      "Let's define a laminate. An ID and a formatted layup must be given.\n",
      "\n",
      "Core thickness is completely ignored for this assignment.\n"
     ]
    },
    {
     "cell_type": "code",
     "collapsed": false,
     "input": [
      "my_layup = '90_2/p40/p20/0s'\n",
      "my_materialID = 2 #This corresponds to (AS/H3501)\n",
      "my_laminate = Laminate(layup = my_layup, \n",
      "                       materialID = my_materialID)\n",
      "my_laminate.compute_all()"
     ],
     "language": "python",
     "metadata": {},
     "outputs": [],
     "prompt_number": 13
    },
    {
     "cell_type": "markdown",
     "metadata": {},
     "source": [
      "--------------------\n",
      "\n",
      "**Output laminate orientation (ply-by-ply)**\n",
      "\n",
      "**Output total number of plies**"
     ]
    },
    {
     "cell_type": "code",
     "collapsed": false,
     "input": [
      "print my_laminate.print_orientation(display = False);\n",
      "print \"Total number of plies :\"\n",
      "print len(my_laminate.layers)"
     ],
     "language": "python",
     "metadata": {},
     "outputs": [
      {
       "output_type": "stream",
       "stream": "stdout",
       "text": [
        "Orientation [degrees] : \n",
        "[90, 90, 40, -40, 20, -20, 0, 0, -20, 20, -40, 40, 90, 90]\n",
        "Total number of plies :\n",
        "14\n"
       ]
      }
     ],
     "prompt_number": 6
    },
    {
     "cell_type": "markdown",
     "metadata": {},
     "source": [
      "------------------\n",
      "**Output material properties**"
     ]
    },
    {
     "cell_type": "code",
     "collapsed": false,
     "input": [
      "print my_laminate.print_param()"
     ],
     "language": "python",
     "metadata": {},
     "outputs": [
      {
       "output_type": "stream",
       "stream": "stdout",
       "text": [
        "'          ID :              2  [-]'\n",
        "'fiber/matrix :       AS/H3501  [-]'\n",
        "'        name : Graphite/Epoxy  [-]'\n",
        "'          ex :       138.0000  [GPA]'\n",
        "'          ey :         8.9600  [GPA]'\n",
        "'          es :         7.1000  [GPA]'\n",
        "'         nux :         0.3000  [-]'\n",
        "'          xt :      1447.0000  [MPA]'\n",
        "'          xc :      1447.0000  [MPA]'\n",
        "'          yt :        51.7000  [MPA]'\n",
        "'          yc :       206.0000  [MPA]'\n",
        "'          sc :        93.0000  [MPA]'\n",
        "'          h0 :         0.1250  [mm]'\n",
        "'         nuy :         0.0195  [-]'\n",
        "\n"
       ]
      }
     ],
     "prompt_number": 8
    },
    {
     "cell_type": "markdown",
     "metadata": {},
     "source": [
      "Question 2)\n",
      "-----------\n",
      "**Output \"on-axis\" [S] and [Q] matrices for first layer**\n",
      "\n",
      "**Verify that [S] and [Q] are the same for each layer**"
     ]
    },
    {
     "cell_type": "code",
     "collapsed": false,
     "input": [
      "# first_pass = True\n",
      "# for a_layer in my_laminate.layers:\n",
      "#     Q_new,S_new = a_layer.get_array('QSon', \n",
      "#                                      do_print = first_pass)\n",
      "#     if first_pass:\n",
      "#         first_pass = False\n",
      "#         Q_old,S_old = Q_new,S_new\n",
      "#     else: \n",
      "#         assert(Q_new.all() == Q_old.all() and \n",
      "#                S_new.all() == S_old.all()\n",
      "#                ) #[2]\n",
      "print my_laminate.print_array('QSon',1,display = False)"
     ],
     "language": "python",
     "metadata": {},
     "outputs": [
      {
       "output_type": "stream",
       "stream": "stdout",
       "text": [
        "S_on [1/GPa] : \n",
        "[[   0.0072   -0.0022    0.0000]\n",
        " [  -0.0022    0.1116    0.0000]\n",
        " [   0.0000    0.0000    0.1408]]\n",
        "U's for S [1/GPa]\n",
        "U1 :  0.0616\n",
        "U2 : -0.0522\n",
        "U3 : -0.0022\n",
        "U4 : -0.0044\n",
        "U5 :  0.1320\n",
        "\n",
        "Q_on [GPa] : \n",
        "[[ 138.8111    2.7038    0.0000]\n",
        " [   2.7038    9.0127    0.0000]\n",
        " [   0.0000    0.0000    7.1000]]\n",
        "U's for Q [GPa]\n",
        "U1 : 59.6599\n",
        "U2 : 64.8992\n",
        "U3 : 14.2520\n",
        "U4 : 16.9558\n",
        "U5 : 21.3520\n",
        "\n",
        "\n",
        "\n"
       ]
      }
     ],
     "prompt_number": 14
    },
    {
     "cell_type": "markdown",
     "metadata": {},
     "source": [
      "Footnotes\n",
      "---------\n",
      "\n",
      "**[1]** : http://bit.ly/selimb_HW1_mech530\n",
      "    \n",
      "**[2]** : assert(*expr*) returns an *AssertionError* if *expr* is *False*.   \n",
      "No errors returned in this case"
     ]
    }
   ],
   "metadata": {}
  }
 ]
}