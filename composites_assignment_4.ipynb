{
 "metadata": {
  "name": "",
  "signature": "sha256:417750a587d62eca9274ec619c102faeff41c98321c454f4f7834a832ee086f8"
 },
 "nbformat": 3,
 "nbformat_minor": 0,
 "worksheets": [
  {
   "cells": [
    {
     "cell_type": "code",
     "collapsed": false,
     "input": [
      "%matplotlib inline\n",
      "from composites.sim import Sim,ureg,Q_\n",
      "from composites.laminate import Laminate\n",
      "import matplotlib.pyplot as plt\n",
      "import numpy as np"
     ],
     "language": "python",
     "metadata": {},
     "outputs": [],
     "prompt_number": 1
    },
    {
     "cell_type": "code",
     "collapsed": false,
     "input": [
      "#Create a Simulation object composed of a laminate.\n",
      "sim = Sim(laminate = Laminate('0_2/p25/0_2s',\n",
      "                               materialID = 5, #5\n",
      "                               core_thick = 0.01))"
     ],
     "language": "python",
     "metadata": {},
     "outputs": [
      {
       "output_type": "stream",
       "stream": "stdout",
       "text": [
        "Writing\n"
       ]
      }
     ],
     "prompt_number": 2
    },
    {
     "cell_type": "markdown",
     "metadata": {},
     "source": [
      "**Ply orientation list **"
     ]
    },
    {
     "cell_type": "code",
     "collapsed": false,
     "input": [
      "print sim.laminate.print_orientation()"
     ],
     "language": "python",
     "metadata": {},
     "outputs": [
      {
       "output_type": "stream",
       "stream": "stdout",
       "text": [
        "Orientation [degrees] : \n",
        "[0, 0, 25, -25, 0, 0, 0, 0, -25, 25, 0, 0]\n"
       ]
      }
     ],
     "prompt_number": 3
    },
    {
     "cell_type": "markdown",
     "metadata": {},
     "source": [
      "**Number of plies **"
     ]
    },
    {
     "cell_type": "code",
     "collapsed": false,
     "input": [
      "print sim.laminate.num_of_layers()"
     ],
     "language": "python",
     "metadata": {},
     "outputs": [
      {
       "output_type": "stream",
       "stream": "stdout",
       "text": [
        "12\n"
       ]
      }
     ],
     "prompt_number": 4
    },
    {
     "cell_type": "markdown",
     "metadata": {},
     "source": [
      "**Material properties **"
     ]
    },
    {
     "cell_type": "code",
     "collapsed": false,
     "input": [
      "params = sim.laminate.print_param()\n",
      "print params"
     ],
     "language": "python",
     "metadata": {},
     "outputs": [
      {
       "output_type": "stream",
       "stream": "stdout",
       "text": [
        "Graphite/Thermoplastic\n",
        "'          ID :                      5  [-]'\n",
        "'fiber/matrix :               AS4/PEEK  [-]'\n",
        "'        name : Graphite/Thermoplastic  [-]'\n",
        "'          ex :               134.0000  [GPA]'\n",
        "'          ey :                 8.9000  [GPA]'\n",
        "'          es :                 5.1000  [GPA]'\n",
        "'         nux :                 0.2800  [-]'\n",
        "'          xt :              2130.0000  [MPA]'\n",
        "'          xc :              1100.0000  [MPA]'\n",
        "'          yt :                80.0000  [MPA]'\n",
        "'          yc :               200.0000  [MPA]'\n",
        "'          sc :               160.0000  [MPA]'\n",
        "'          h0 :                 0.1250  [mm]'\n",
        "'         nuy :                 0.0186  [-]'\n",
        "\n"
       ]
      }
     ],
     "prompt_number": 5
    },
    {
     "cell_type": "markdown",
     "metadata": {},
     "source": [
      "**Thickness**"
     ]
    },
    {
     "cell_type": "code",
     "collapsed": false,
     "input": [
      "print \"Total thickness : %7.6f [m]\" % sim.laminate.total_thickness\n",
      "print \"Ply thickness   : %7.6f [m]\" % sim.laminate.total_ply_thickness"
     ],
     "language": "python",
     "metadata": {},
     "outputs": [
      {
       "output_type": "stream",
       "stream": "stdout",
       "text": [
        "Total thickness : 0.011500 [m]\n",
        "Ply thickness   : 0.001500 [m]\n"
       ]
      }
     ],
     "prompt_number": 6
    },
    {
     "cell_type": "markdown",
     "metadata": {},
     "source": [
      "**On-axis Modulus and Compliance matrices -- [Q] and [S] **"
     ]
    },
    {
     "cell_type": "code",
     "collapsed": false,
     "input": [
      "print sim.laminate.print_array('QSon',1)"
     ],
     "language": "python",
     "metadata": {},
     "outputs": [
      {
       "output_type": "stream",
       "stream": "stdout",
       "text": [
        "S_on [1/GPa] : \n",
        "[[   0.0075   -0.0021    0.0000]\n",
        " [  -0.0021    0.1124    0.0000]\n",
        " [   0.0000    0.0000    0.1961]]\n",
        "U's for S [1/GPa]\n",
        "U1 :  0.0689\n",
        "U2 : -0.0524\n",
        "U3 : -0.0090\n",
        "U4 : -0.0111\n",
        "U5 :  0.1600\n",
        "\n",
        "Q_on [GPa] : \n",
        "[[ 134.7014    2.5050    0.0000]\n",
        " [   2.5050    8.9466    0.0000]\n",
        " [   0.0000    0.0000    5.1000]]\n",
        "U's for Q [GPa]\n",
        "U1 : 57.0443\n",
        "U2 : 62.8774\n",
        "U3 : 14.7797\n",
        "U4 : 17.2848\n",
        "U5 : 19.8797\n",
        "\n",
        "\n",
        "\n"
       ]
      }
     ],
     "prompt_number": 7
    },
    {
     "cell_type": "markdown",
     "metadata": {},
     "source": [
      "**In-plane Modulus and Compliance -- [A] and [a]**"
     ]
    },
    {
     "cell_type": "code",
     "collapsed": false,
     "input": [
      "print sim.laminate.print_A()"
     ],
     "language": "python",
     "metadata": {},
     "outputs": [
      {
       "output_type": "stream",
       "stream": "stdout",
       "text": [
        "A [GN/m] : \n",
        "[[   0.7526    0.1853    0.0000]\n",
        " [   0.1853    0.5864    0.0000]\n",
        " [   0.0000    0.0000    0.2151]]\n",
        "a [m/GN] : \n",
        "[[   1.4408   -0.4552   -0.0000]\n",
        " [  -0.4552    1.8491   -0.0000]\n",
        " [   0.0000    0.0000    4.6486]]\n"
       ]
      }
     ],
     "prompt_number": 8
    },
    {
     "cell_type": "markdown",
     "metadata": {},
     "source": [
      "**Flexural Modulus and Compliance -- [D] and [d]**"
     ]
    },
    {
     "cell_type": "code",
     "collapsed": false,
     "input": [
      "print sim.laminate.print_D()"
     ],
     "language": "python",
     "metadata": {},
     "outputs": [
      {
       "output_type": "stream",
       "stream": "stdout",
       "text": [
        "D [kNm] : \n",
        "[[  10.0254    1.7997    0.0130]\n",
        " [   1.7997    5.2159    0.0032]\n",
        " [   0.0130    0.0032    2.1286]]\n",
        "d [1/MNm] : \n",
        "[[ 106.3335  -36.6900   -0.5932]\n",
        " [ -36.6900  204.3810   -0.0836]\n",
        " [  -0.5932   -0.0836  469.7893]]\n"
       ]
      }
     ],
     "prompt_number": 9
    },
    {
     "cell_type": "code",
     "collapsed": false,
     "input": [
      "#Define and apply load\n",
      "P = 225*98.1*ureg.N; L = 0.52*ureg.m\n",
      "b = 0.1*ureg.m; moment = -P*L/(4*b)\n",
      "M = Q_([moment.magnitude,0,0],moment.units)"
     ],
     "language": "python",
     "metadata": {},
     "outputs": [],
     "prompt_number": 10
    },
    {
     "cell_type": "markdown",
     "metadata": {},
     "source": [
      "**Loads**"
     ]
    },
    {
     "cell_type": "code",
     "collapsed": false,
     "input": [
      "print \"M [N] : \"\n",
      "print M.magnitude\n",
      "print \"\\nN [N/m] : \"\n",
      "print [0,0,0]"
     ],
     "language": "python",
     "metadata": {},
     "outputs": [
      {
       "output_type": "stream",
       "stream": "stdout",
       "text": [
        "M [N] : \n",
        "[-28694.2500    0.0000    0.0000]\n",
        "\n",
        "N [N/m] : \n",
        "[0, 0, 0]\n"
       ]
      }
     ],
     "prompt_number": 11
    },
    {
     "cell_type": "code",
     "collapsed": false,
     "input": [
      "#Apply load\n",
      "sim.apply_M(M)"
     ],
     "language": "python",
     "metadata": {},
     "outputs": [],
     "prompt_number": 12
    },
    {
     "cell_type": "markdown",
     "metadata": {},
     "source": [
      "**Curvature**"
     ]
    },
    {
     "cell_type": "code",
     "collapsed": false,
     "input": [
      "print \"K [m] :\"\n",
      "print sim.k"
     ],
     "language": "python",
     "metadata": {},
     "outputs": [
      {
       "output_type": "stream",
       "stream": "stdout",
       "text": [
        "K [m] :\n",
        "[  -3.0512    1.0528    0.0170]\n"
       ]
      }
     ],
     "prompt_number": 13
    },
    {
     "cell_type": "code",
     "collapsed": false,
     "input": [
      "import sympy\n",
      "sympy.init_printing()"
     ],
     "language": "python",
     "metadata": {},
     "outputs": [],
     "prompt_number": 14
    },
    {
     "cell_type": "code",
     "collapsed": false,
     "input": [
      "#Require pandas 0.14.1+\n",
      "df = sim.return_results()\n",
      "df"
     ],
     "language": "python",
     "metadata": {},
     "outputs": [
      {
       "html": [
        "<div style=\"max-height:1000px;max-width:1500px;overflow:auto;\">\n",
        "<table border=\"1\" class=\"dataframe\">\n",
        "  <thead>\n",
        "    <tr style=\"text-align: right;\">\n",
        "      <th></th>\n",
        "      <th>$\\epsilon_1$</th>\n",
        "      <th>$\\epsilon_2$</th>\n",
        "      <th>$\\epsilon_6$</th>\n",
        "      <th>$\\epsilon_x$</th>\n",
        "      <th>$\\epsilon_y$</th>\n",
        "      <th>$\\epsilon_s$</th>\n",
        "      <th>$\\sigma_1$</th>\n",
        "      <th>$\\sigma_2$</th>\n",
        "      <th>$\\sigma_6$</th>\n",
        "    </tr>\n",
        "    <tr>\n",
        "      <th>Ply Number</th>\n",
        "      <th></th>\n",
        "      <th></th>\n",
        "      <th></th>\n",
        "      <th></th>\n",
        "      <th></th>\n",
        "      <th></th>\n",
        "      <th></th>\n",
        "      <th></th>\n",
        "      <th></th>\n",
        "    </tr>\n",
        "  </thead>\n",
        "  <tbody>\n",
        "    <tr>\n",
        "      <th>0 (0$^\\circ$) - Bot</th>\n",
        "      <td> 0.0175</td>\n",
        "      <td>-0.0061</td>\n",
        "      <td>-0.0001</td>\n",
        "      <td> 0.0175</td>\n",
        "      <td>-0.0061</td>\n",
        "      <td>-0.0001</td>\n",
        "      <td> 2.3481</td>\n",
        "      <td>-0.0102</td>\n",
        "      <td>-0.0005</td>\n",
        "    </tr>\n",
        "    <tr>\n",
        "      <th>0 (0$^\\circ$) - Top</th>\n",
        "      <td> 0.0172</td>\n",
        "      <td>-0.0059</td>\n",
        "      <td>-0.0001</td>\n",
        "      <td> 0.0172</td>\n",
        "      <td>-0.0059</td>\n",
        "      <td>-0.0001</td>\n",
        "      <td> 2.2970</td>\n",
        "      <td>-0.0100</td>\n",
        "      <td>-0.0005</td>\n",
        "    </tr>\n",
        "    <tr>\n",
        "      <th>1 (0$^\\circ$) - Bot</th>\n",
        "      <td> 0.0172</td>\n",
        "      <td>-0.0059</td>\n",
        "      <td>-0.0001</td>\n",
        "      <td> 0.0172</td>\n",
        "      <td>-0.0059</td>\n",
        "      <td>-0.0001</td>\n",
        "      <td> 2.2970</td>\n",
        "      <td>-0.0100</td>\n",
        "      <td>-0.0005</td>\n",
        "    </tr>\n",
        "    <tr>\n",
        "      <th>1 (0$^\\circ$) - Top</th>\n",
        "      <td> 0.0168</td>\n",
        "      <td>-0.0058</td>\n",
        "      <td>-0.0001</td>\n",
        "      <td> 0.0168</td>\n",
        "      <td>-0.0058</td>\n",
        "      <td>-0.0001</td>\n",
        "      <td> 2.2460</td>\n",
        "      <td>-0.0098</td>\n",
        "      <td>-0.0005</td>\n",
        "    </tr>\n",
        "    <tr>\n",
        "      <th>2 (25$^\\circ$) - Bot</th>\n",
        "      <td> 0.0168</td>\n",
        "      <td>-0.0058</td>\n",
        "      <td>-0.0001</td>\n",
        "      <td> 0.0127</td>\n",
        "      <td>-0.0017</td>\n",
        "      <td>-0.0174</td>\n",
        "      <td> 1.7083</td>\n",
        "      <td> 0.0164</td>\n",
        "      <td>-0.0885</td>\n",
        "    </tr>\n",
        "    <tr>\n",
        "      <th>2 (25$^\\circ$) - Top</th>\n",
        "      <td> 0.0164</td>\n",
        "      <td>-0.0057</td>\n",
        "      <td>-0.0001</td>\n",
        "      <td> 0.0124</td>\n",
        "      <td>-0.0017</td>\n",
        "      <td>-0.0170</td>\n",
        "      <td> 1.6695</td>\n",
        "      <td> 0.0161</td>\n",
        "      <td>-0.0865</td>\n",
        "    </tr>\n",
        "    <tr>\n",
        "      <th>3 (-25$^\\circ$) - Bot</th>\n",
        "      <td> 0.0164</td>\n",
        "      <td>-0.0057</td>\n",
        "      <td>-0.0001</td>\n",
        "      <td> 0.0125</td>\n",
        "      <td>-0.0018</td>\n",
        "      <td> 0.0168</td>\n",
        "      <td> 1.6787</td>\n",
        "      <td> 0.0156</td>\n",
        "      <td> 0.0859</td>\n",
        "    </tr>\n",
        "    <tr>\n",
        "      <th>3 (-25$^\\circ$) - Top</th>\n",
        "      <td> 0.0160</td>\n",
        "      <td>-0.0055</td>\n",
        "      <td>-0.0001</td>\n",
        "      <td> 0.0122</td>\n",
        "      <td>-0.0017</td>\n",
        "      <td> 0.0164</td>\n",
        "      <td> 1.6397</td>\n",
        "      <td> 0.0152</td>\n",
        "      <td> 0.0839</td>\n",
        "    </tr>\n",
        "    <tr>\n",
        "      <th>4 (0$^\\circ$) - Bot</th>\n",
        "      <td> 0.0160</td>\n",
        "      <td>-0.0055</td>\n",
        "      <td>-0.0001</td>\n",
        "      <td> 0.0160</td>\n",
        "      <td>-0.0055</td>\n",
        "      <td>-0.0001</td>\n",
        "      <td> 2.1439</td>\n",
        "      <td>-0.0093</td>\n",
        "      <td>-0.0005</td>\n",
        "    </tr>\n",
        "    <tr>\n",
        "      <th>4 (0$^\\circ$) - Top</th>\n",
        "      <td> 0.0156</td>\n",
        "      <td>-0.0054</td>\n",
        "      <td>-0.0001</td>\n",
        "      <td> 0.0156</td>\n",
        "      <td>-0.0054</td>\n",
        "      <td>-0.0001</td>\n",
        "      <td> 2.0928</td>\n",
        "      <td>-0.0091</td>\n",
        "      <td>-0.0004</td>\n",
        "    </tr>\n",
        "    <tr>\n",
        "      <th>5 (0$^\\circ$) - Bot</th>\n",
        "      <td> 0.0156</td>\n",
        "      <td>-0.0054</td>\n",
        "      <td>-0.0001</td>\n",
        "      <td> 0.0156</td>\n",
        "      <td>-0.0054</td>\n",
        "      <td>-0.0001</td>\n",
        "      <td> 2.0928</td>\n",
        "      <td>-0.0091</td>\n",
        "      <td>-0.0004</td>\n",
        "    </tr>\n",
        "    <tr>\n",
        "      <th>5 (0$^\\circ$) - Top</th>\n",
        "      <td> 0.0153</td>\n",
        "      <td>-0.0053</td>\n",
        "      <td>-0.0001</td>\n",
        "      <td> 0.0153</td>\n",
        "      <td>-0.0053</td>\n",
        "      <td>-0.0001</td>\n",
        "      <td> 2.0418</td>\n",
        "      <td>-0.0089</td>\n",
        "      <td>-0.0004</td>\n",
        "    </tr>\n",
        "    <tr>\n",
        "      <th>6 (0$^\\circ$) - Bot</th>\n",
        "      <td>-0.0153</td>\n",
        "      <td> 0.0053</td>\n",
        "      <td> 0.0001</td>\n",
        "      <td>-0.0153</td>\n",
        "      <td> 0.0053</td>\n",
        "      <td> 0.0001</td>\n",
        "      <td>-2.0418</td>\n",
        "      <td> 0.0089</td>\n",
        "      <td> 0.0004</td>\n",
        "    </tr>\n",
        "    <tr>\n",
        "      <th>6 (0$^\\circ$) - Top</th>\n",
        "      <td>-0.0156</td>\n",
        "      <td> 0.0054</td>\n",
        "      <td> 0.0001</td>\n",
        "      <td>-0.0156</td>\n",
        "      <td> 0.0054</td>\n",
        "      <td> 0.0001</td>\n",
        "      <td>-2.0928</td>\n",
        "      <td> 0.0091</td>\n",
        "      <td> 0.0004</td>\n",
        "    </tr>\n",
        "    <tr>\n",
        "      <th>7 (0$^\\circ$) - Bot</th>\n",
        "      <td>-0.0156</td>\n",
        "      <td> 0.0054</td>\n",
        "      <td> 0.0001</td>\n",
        "      <td>-0.0156</td>\n",
        "      <td> 0.0054</td>\n",
        "      <td> 0.0001</td>\n",
        "      <td>-2.0928</td>\n",
        "      <td> 0.0091</td>\n",
        "      <td> 0.0004</td>\n",
        "    </tr>\n",
        "    <tr>\n",
        "      <th>7 (0$^\\circ$) - Top</th>\n",
        "      <td>-0.0160</td>\n",
        "      <td> 0.0055</td>\n",
        "      <td> 0.0001</td>\n",
        "      <td>-0.0160</td>\n",
        "      <td> 0.0055</td>\n",
        "      <td> 0.0001</td>\n",
        "      <td>-2.1439</td>\n",
        "      <td> 0.0093</td>\n",
        "      <td> 0.0005</td>\n",
        "    </tr>\n",
        "    <tr>\n",
        "      <th>8 (-25$^\\circ$) - Bot</th>\n",
        "      <td>-0.0160</td>\n",
        "      <td> 0.0055</td>\n",
        "      <td> 0.0001</td>\n",
        "      <td>-0.0122</td>\n",
        "      <td> 0.0017</td>\n",
        "      <td>-0.0164</td>\n",
        "      <td>-1.6397</td>\n",
        "      <td>-0.0152</td>\n",
        "      <td>-0.0839</td>\n",
        "    </tr>\n",
        "    <tr>\n",
        "      <th>8 (-25$^\\circ$) - Top</th>\n",
        "      <td>-0.0164</td>\n",
        "      <td> 0.0057</td>\n",
        "      <td> 0.0001</td>\n",
        "      <td>-0.0125</td>\n",
        "      <td> 0.0018</td>\n",
        "      <td>-0.0168</td>\n",
        "      <td>-1.6787</td>\n",
        "      <td>-0.0156</td>\n",
        "      <td>-0.0859</td>\n",
        "    </tr>\n",
        "    <tr>\n",
        "      <th>9 (25$^\\circ$) - Bot</th>\n",
        "      <td>-0.0164</td>\n",
        "      <td> 0.0057</td>\n",
        "      <td> 0.0001</td>\n",
        "      <td>-0.0124</td>\n",
        "      <td> 0.0017</td>\n",
        "      <td> 0.0170</td>\n",
        "      <td>-1.6695</td>\n",
        "      <td>-0.0161</td>\n",
        "      <td> 0.0865</td>\n",
        "    </tr>\n",
        "    <tr>\n",
        "      <th>9 (25$^\\circ$) - Top</th>\n",
        "      <td>-0.0168</td>\n",
        "      <td> 0.0058</td>\n",
        "      <td> 0.0001</td>\n",
        "      <td>-0.0127</td>\n",
        "      <td> 0.0017</td>\n",
        "      <td> 0.0174</td>\n",
        "      <td>-1.7083</td>\n",
        "      <td>-0.0164</td>\n",
        "      <td> 0.0885</td>\n",
        "    </tr>\n",
        "    <tr>\n",
        "      <th>10 (0$^\\circ$) - Bot</th>\n",
        "      <td>-0.0168</td>\n",
        "      <td> 0.0058</td>\n",
        "      <td> 0.0001</td>\n",
        "      <td>-0.0168</td>\n",
        "      <td> 0.0058</td>\n",
        "      <td> 0.0001</td>\n",
        "      <td>-2.2460</td>\n",
        "      <td> 0.0098</td>\n",
        "      <td> 0.0005</td>\n",
        "    </tr>\n",
        "    <tr>\n",
        "      <th>10 (0$^\\circ$) - Top</th>\n",
        "      <td>-0.0172</td>\n",
        "      <td> 0.0059</td>\n",
        "      <td> 0.0001</td>\n",
        "      <td>-0.0172</td>\n",
        "      <td> 0.0059</td>\n",
        "      <td> 0.0001</td>\n",
        "      <td>-2.2970</td>\n",
        "      <td> 0.0100</td>\n",
        "      <td> 0.0005</td>\n",
        "    </tr>\n",
        "    <tr>\n",
        "      <th>11 (0$^\\circ$) - Bot</th>\n",
        "      <td>-0.0172</td>\n",
        "      <td> 0.0059</td>\n",
        "      <td> 0.0001</td>\n",
        "      <td>-0.0172</td>\n",
        "      <td> 0.0059</td>\n",
        "      <td> 0.0001</td>\n",
        "      <td>-2.2970</td>\n",
        "      <td> 0.0100</td>\n",
        "      <td> 0.0005</td>\n",
        "    </tr>\n",
        "    <tr>\n",
        "      <th>11 (0$^\\circ$) - Top</th>\n",
        "      <td>-0.0175</td>\n",
        "      <td> 0.0061</td>\n",
        "      <td> 0.0001</td>\n",
        "      <td>-0.0175</td>\n",
        "      <td> 0.0061</td>\n",
        "      <td> 0.0001</td>\n",
        "      <td>-2.3481</td>\n",
        "      <td> 0.0102</td>\n",
        "      <td> 0.0005</td>\n",
        "    </tr>\n",
        "  </tbody>\n",
        "</table>\n",
        "</div>"
       ],
       "metadata": {},
       "output_type": "pyout",
       "prompt_number": 15,
       "text": [
        "                       $\\epsilon_1$  $\\epsilon_2$  $\\epsilon_6$  $\\epsilon_x$  \\\n",
        "Ply Number                                                                      \n",
        "0 (0$^\\circ$) - Bot          0.0175       -0.0061       -0.0001        0.0175   \n",
        "0 (0$^\\circ$) - Top          0.0172       -0.0059       -0.0001        0.0172   \n",
        "1 (0$^\\circ$) - Bot          0.0172       -0.0059       -0.0001        0.0172   \n",
        "1 (0$^\\circ$) - Top          0.0168       -0.0058       -0.0001        0.0168   \n",
        "2 (25$^\\circ$) - Bot         0.0168       -0.0058       -0.0001        0.0127   \n",
        "2 (25$^\\circ$) - Top         0.0164       -0.0057       -0.0001        0.0124   \n",
        "3 (-25$^\\circ$) - Bot        0.0164       -0.0057       -0.0001        0.0125   \n",
        "3 (-25$^\\circ$) - Top        0.0160       -0.0055       -0.0001        0.0122   \n",
        "4 (0$^\\circ$) - Bot          0.0160       -0.0055       -0.0001        0.0160   \n",
        "4 (0$^\\circ$) - Top          0.0156       -0.0054       -0.0001        0.0156   \n",
        "5 (0$^\\circ$) - Bot          0.0156       -0.0054       -0.0001        0.0156   \n",
        "5 (0$^\\circ$) - Top          0.0153       -0.0053       -0.0001        0.0153   \n",
        "6 (0$^\\circ$) - Bot         -0.0153        0.0053        0.0001       -0.0153   \n",
        "6 (0$^\\circ$) - Top         -0.0156        0.0054        0.0001       -0.0156   \n",
        "7 (0$^\\circ$) - Bot         -0.0156        0.0054        0.0001       -0.0156   \n",
        "7 (0$^\\circ$) - Top         -0.0160        0.0055        0.0001       -0.0160   \n",
        "8 (-25$^\\circ$) - Bot       -0.0160        0.0055        0.0001       -0.0122   \n",
        "8 (-25$^\\circ$) - Top       -0.0164        0.0057        0.0001       -0.0125   \n",
        "9 (25$^\\circ$) - Bot        -0.0164        0.0057        0.0001       -0.0124   \n",
        "9 (25$^\\circ$) - Top        -0.0168        0.0058        0.0001       -0.0127   \n",
        "10 (0$^\\circ$) - Bot        -0.0168        0.0058        0.0001       -0.0168   \n",
        "10 (0$^\\circ$) - Top        -0.0172        0.0059        0.0001       -0.0172   \n",
        "11 (0$^\\circ$) - Bot        -0.0172        0.0059        0.0001       -0.0172   \n",
        "11 (0$^\\circ$) - Top        -0.0175        0.0061        0.0001       -0.0175   \n",
        "\n",
        "                       $\\epsilon_y$  $\\epsilon_s$  $\\sigma_1$  $\\sigma_2$  \\\n",
        "Ply Number                                                                  \n",
        "0 (0$^\\circ$) - Bot         -0.0061       -0.0001      2.3481     -0.0102   \n",
        "0 (0$^\\circ$) - Top         -0.0059       -0.0001      2.2970     -0.0100   \n",
        "1 (0$^\\circ$) - Bot         -0.0059       -0.0001      2.2970     -0.0100   \n",
        "1 (0$^\\circ$) - Top         -0.0058       -0.0001      2.2460     -0.0098   \n",
        "2 (25$^\\circ$) - Bot        -0.0017       -0.0174      1.7083      0.0164   \n",
        "2 (25$^\\circ$) - Top        -0.0017       -0.0170      1.6695      0.0161   \n",
        "3 (-25$^\\circ$) - Bot       -0.0018        0.0168      1.6787      0.0156   \n",
        "3 (-25$^\\circ$) - Top       -0.0017        0.0164      1.6397      0.0152   \n",
        "4 (0$^\\circ$) - Bot         -0.0055       -0.0001      2.1439     -0.0093   \n",
        "4 (0$^\\circ$) - Top         -0.0054       -0.0001      2.0928     -0.0091   \n",
        "5 (0$^\\circ$) - Bot         -0.0054       -0.0001      2.0928     -0.0091   \n",
        "5 (0$^\\circ$) - Top         -0.0053       -0.0001      2.0418     -0.0089   \n",
        "6 (0$^\\circ$) - Bot          0.0053        0.0001     -2.0418      0.0089   \n",
        "6 (0$^\\circ$) - Top          0.0054        0.0001     -2.0928      0.0091   \n",
        "7 (0$^\\circ$) - Bot          0.0054        0.0001     -2.0928      0.0091   \n",
        "7 (0$^\\circ$) - Top          0.0055        0.0001     -2.1439      0.0093   \n",
        "8 (-25$^\\circ$) - Bot        0.0017       -0.0164     -1.6397     -0.0152   \n",
        "8 (-25$^\\circ$) - Top        0.0018       -0.0168     -1.6787     -0.0156   \n",
        "9 (25$^\\circ$) - Bot         0.0017        0.0170     -1.6695     -0.0161   \n",
        "9 (25$^\\circ$) - Top         0.0017        0.0174     -1.7083     -0.0164   \n",
        "10 (0$^\\circ$) - Bot         0.0058        0.0001     -2.2460      0.0098   \n",
        "10 (0$^\\circ$) - Top         0.0059        0.0001     -2.2970      0.0100   \n",
        "11 (0$^\\circ$) - Bot         0.0059        0.0001     -2.2970      0.0100   \n",
        "11 (0$^\\circ$) - Top         0.0061        0.0001     -2.3481      0.0102   \n",
        "\n",
        "                       $\\sigma_6$  \n",
        "Ply Number                         \n",
        "0 (0$^\\circ$) - Bot       -0.0005  \n",
        "0 (0$^\\circ$) - Top       -0.0005  \n",
        "1 (0$^\\circ$) - Bot       -0.0005  \n",
        "1 (0$^\\circ$) - Top       -0.0005  \n",
        "2 (25$^\\circ$) - Bot      -0.0885  \n",
        "2 (25$^\\circ$) - Top      -0.0865  \n",
        "3 (-25$^\\circ$) - Bot      0.0859  \n",
        "3 (-25$^\\circ$) - Top      0.0839  \n",
        "4 (0$^\\circ$) - Bot       -0.0005  \n",
        "4 (0$^\\circ$) - Top       -0.0004  \n",
        "5 (0$^\\circ$) - Bot       -0.0004  \n",
        "5 (0$^\\circ$) - Top       -0.0004  \n",
        "6 (0$^\\circ$) - Bot        0.0004  \n",
        "6 (0$^\\circ$) - Top        0.0004  \n",
        "7 (0$^\\circ$) - Bot        0.0004  \n",
        "7 (0$^\\circ$) - Top        0.0005  \n",
        "8 (-25$^\\circ$) - Bot     -0.0839  \n",
        "8 (-25$^\\circ$) - Top     -0.0859  \n",
        "9 (25$^\\circ$) - Bot       0.0865  \n",
        "9 (25$^\\circ$) - Top       0.0885  \n",
        "10 (0$^\\circ$) - Bot       0.0005  \n",
        "10 (0$^\\circ$) - Top       0.0005  \n",
        "11 (0$^\\circ$) - Bot       0.0005  \n",
        "11 (0$^\\circ$) - Top       0.0005  "
       ]
      }
     ],
     "prompt_number": 15
    },
    {
     "cell_type": "code",
     "collapsed": false,
     "input": [
      "z = sim.laminate.z_array.flatten()"
     ],
     "language": "python",
     "metadata": {},
     "outputs": [],
     "prompt_number": 16
    },
    {
     "cell_type": "code",
     "collapsed": false,
     "input": [
      "# fig = plt.figure()\n",
      "# ax = plt.axes()\n",
      "# ax.plot(np.vstack(sim.on_strain)[:,0],z,'-bo')\n",
      "# ax.set_ylabel('Height');ax.set_xlabel('On-axis strain')\n",
      "# ax.set_title('Height vs on-axis strain' )\n",
      "# ax.plot([0.0,0.0],[-0.006,0.006],'--k')\n",
      "# # ax.grid(axis = 'x')\n",
      "# plt.show()"
     ],
     "language": "python",
     "metadata": {},
     "outputs": [],
     "prompt_number": 17
    },
    {
     "cell_type": "markdown",
     "metadata": {},
     "source": [
      "**Strain distribution**"
     ]
    },
    {
     "cell_type": "code",
     "collapsed": false,
     "input": [
      "#http://matplotlib.org/examples/pylab_examples/broken_axis.html\n",
      "f,(ax,ax2) = plt.subplots(2,1,sharex=True)\n",
      "ax.plot(np.vstack(sim.on_strain)[:,0],z,'-bo')\n",
      "ax2.plot(np.vstack(sim.on_strain)[:,0],z,'-bo')\n",
      "ax.set_ylim(0.0049,0.006); ax2.set_ylim(-0.006,-0.0049)\n",
      "ax.spines['bottom'].set_visible(False)\n",
      "ax2.spines['top'].set_visible(False)\n",
      "ax.xaxis.tick_top()\n",
      "ax.tick_params(labeltop='off')\n",
      "ax2.xaxis.tick_bottom()\n",
      "d = 0.01\n",
      "kwargs = dict(transform=ax.transAxes,color = 'k',clip_on = False)\n",
      "ax.plot((-d,+d),(-d,+d), **kwargs)      # top-left diagonal\n",
      "ax.plot((1-d,1+d),(-d,+d), **kwargs)    # top-right diagonal\n",
      "\n",
      "kwargs.update(transform=ax2.transAxes)  # switch to the bottom axes\n",
      "ax2.plot((-d,+d),(1-d,1+d), **kwargs)   # bottom-left diagonal\n",
      "ax2.plot((1-d,1+d),(1-d,1+d), **kwargs) # bottom-right diagonal\n",
      "\n",
      "ax.set_ylabel('Above core');ax2.set_xlabel('On-axis strain')\n",
      "ax2.set_ylabel('Below core')\n",
      "ax.set_title('Height vs on-axis strain' )\n",
      "plt.show()"
     ],
     "language": "python",
     "metadata": {},
     "outputs": [
      {
       "metadata": {},
       "output_type": "display_data",
       "png": "[encoded data removed]",
       "text": [
        "<matplotlib.figure.Figure at 0xdbc7550>"
       ]
      }
     ],
     "prompt_number": 19
    },
    {
     "cell_type": "markdown",
     "metadata": {},
     "source": [
      "**Maximum strain and deflection $\\delta$**"
     ]
    },
    {
     "cell_type": "code",
     "collapsed": false,
     "input": [
      "del_criterion = 0.5*10**-2; strain_criterion = 0.002"
     ],
     "language": "python",
     "metadata": {},
     "outputs": [],
     "prompt_number": 36
    },
    {
     "cell_type": "code",
     "collapsed": false,
     "input": [
      "delta = P*L**3/(48*b)*(sim.laminate.d[0,0]*10**-9)\n",
      "max_strain = df[u'$\\epsilon_x$'].max()\n",
      "print \"Maximum deflection [cm] : %.4f\"% (delta.magnitude*100)\n",
      "if delta.magnitude > del_criterion:\n",
      "    print \"Too large!\"\n",
      "else:\n",
      "    print \"Is fine.\"\n",
      "print \"Maximum strain [-]      : %.4f\" % max_strain\n",
      "if max_strain > strain_criterion:\n",
      "    print \"Too large!\"\n",
      "else:\n",
      "    print \"Is fine.\""
     ],
     "language": "python",
     "metadata": {},
     "outputs": [
      {
       "output_type": "stream",
       "stream": "stdout",
       "text": [
        "Maximum deflection [cm] : 6.8753\n",
        "Too large!\n",
        "Maximum strain [-]      : 0.0175\n",
        "Too large!\n"
       ]
      }
     ],
     "prompt_number": 37
    },
    {
     "cell_type": "code",
     "collapsed": false,
     "input": [],
     "language": "python",
     "metadata": {},
     "outputs": []
    }
   ],
   "metadata": {}
  }
 ]
}