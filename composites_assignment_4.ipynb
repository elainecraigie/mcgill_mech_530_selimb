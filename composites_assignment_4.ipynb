{
 "metadata": {
  "name": "",
  "signature": "sha256:b51f01c99e0fa14248eddeee2b9d0111005544ce0399975d36691022f6891b9f"
 },
 "nbformat": 3,
 "nbformat_minor": 0,
 "worksheets": [
  {
   "cells": [
    {
     "cell_type": "code",
     "collapsed": false,
     "input": [
      "from composites.laminate import Laminate\n",
      "from composites.floatformat import floatformat\n",
      "import numpy\n",
      "numpy.set_printoptions(formatter = {'float_kind':floatformat}, \n",
      "                    suppress = True\n",
      "                    )"
     ],
     "language": "python",
     "metadata": {},
     "outputs": [],
     "prompt_number": 3
    },
    {
     "cell_type": "code",
     "collapsed": false,
     "input": [
      "laminate = Laminate('0_2/p25/0_2s',\n",
      "                       materialID = 5,\n",
      "                       core_thick = 0.01)\n",
      "laminate.compute_all()"
     ],
     "language": "python",
     "metadata": {},
     "outputs": [],
     "prompt_number": 4
    },
    {
     "cell_type": "code",
     "collapsed": false,
     "input": [],
     "language": "python",
     "metadata": {},
     "outputs": []
    }
   ],
   "metadata": {}
  }
 ]
}