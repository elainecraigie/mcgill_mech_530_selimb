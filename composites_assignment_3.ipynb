{
 "metadata": {
  "name": "",
  "signature": "sha256:8abf16f0fa9a50ee4818cc94b649aab4ccfaaa4bd6984ee1ff89a5da354397e1"
 },
 "nbformat": 3,
 "nbformat_minor": 0,
 "worksheets": [
  {
   "cells": [
    {
     "cell_type": "code",
     "collapsed": false,
     "input": [
      "from composites.laminate import Laminate"
     ],
     "language": "python",
     "metadata": {},
     "outputs": [],
     "prompt_number": 1
    },
    {
     "cell_type": "code",
     "collapsed": false,
     "input": [
      "laminate_q1 = Laminate('p10/90/0_2/p50s',\n",
      "                       materialID = 1)\n",
      "laminate_q1.compute_all()"
     ],
     "language": "python",
     "metadata": {},
     "outputs": [],
     "prompt_number": 2
    },
    {
     "cell_type": "markdown",
     "metadata": {},
     "source": [
      "**Orientation list : **"
     ]
    },
    {
     "cell_type": "code",
     "collapsed": false,
     "input": [
      "print laminate_q1.print_orientation(display = False);"
     ],
     "language": "python",
     "metadata": {},
     "outputs": [
      {
       "output_type": "stream",
       "stream": "stdout",
       "text": [
        "Orientation [degrees] : \n",
        "[10, -10, 90, 0, 0, 50, -50, -50, 50, 0, 0, 90, -10, 10]\n"
       ]
      }
     ],
     "prompt_number": 3
    },
    {
     "cell_type": "markdown",
     "metadata": {},
     "source": [
      "**Number of plies : **"
     ]
    },
    {
     "cell_type": "code",
     "collapsed": false,
     "input": [
      "# print \"Total number of plies: \"\n",
      "print len(laminate_q1.layers)"
     ],
     "language": "python",
     "metadata": {},
     "outputs": [
      {
       "output_type": "stream",
       "stream": "stdout",
       "text": [
        "14\n"
       ]
      }
     ],
     "prompt_number": 4
    },
    {
     "cell_type": "markdown",
     "metadata": {},
     "source": [
      "**Material properties :**"
     ]
    },
    {
     "cell_type": "code",
     "collapsed": false,
     "input": [
      "params = laminate_q1.print_param(display = False);\n",
      "print params"
     ],
     "language": "python",
     "metadata": {},
     "outputs": [
      {
       "output_type": "stream",
       "stream": "stdout",
       "text": [
        "'          ID :              1  [-]'\n",
        "'fiber/matrix :     T300/N5208  [-]'\n",
        "'        name : Graphite/Epoxy  [-]'\n",
        "'          ex :       181.0000  [GPA]'\n",
        "'          ey :        10.3000  [GPA]'\n",
        "'          es :         7.1700  [GPA]'\n",
        "'         nux :         0.2800  [-]'\n",
        "'          xt :      1500.0000  [MPA]'\n",
        "'          xc :      1500.0000  [MPA]'\n",
        "'          yt :        40.0000  [MPA]'\n",
        "'          yc :       246.0000  [MPA]'\n",
        "'          sc :        68.0000  [MPA]'\n",
        "'          h0 :         0.1250  [mm]'\n",
        "'         nuy :         0.0159  [-]'\n",
        "\n"
       ]
      }
     ],
     "prompt_number": 5
    },
    {
     "cell_type": "markdown",
     "metadata": {},
     "source": [
      "**Total thickness**"
     ]
    },
    {
     "cell_type": "code",
     "collapsed": false,
     "input": [
      "print \"%f [m]\" % laminate_q1.total_thickness"
     ],
     "language": "python",
     "metadata": {},
     "outputs": [
      {
       "output_type": "stream",
       "stream": "stdout",
       "text": [
        "0.001750 [m]\n"
       ]
      }
     ],
     "prompt_number": 6
    },
    {
     "cell_type": "markdown",
     "metadata": {},
     "source": [
      "**Modulus and Compliance on-axis matrices :**"
     ]
    },
    {
     "cell_type": "code",
     "collapsed": false,
     "input": [
      "QS_on = laminate_q1.print_array('QSon',1,display = False)\n",
      "print QS_on"
     ],
     "language": "python",
     "metadata": {},
     "outputs": [
      {
       "output_type": "stream",
       "stream": "stdout",
       "text": [
        "S_on [1/GPa] : \n",
        "[[   0.0055   -0.0015    0.0000]\n",
        " [  -0.0015    0.0971    0.0000]\n",
        " [   0.0000    0.0000    0.1395]]\n",
        "U's for S [1/GPa]\n",
        "U1 :  0.0555\n",
        "U2 : -0.0458\n",
        "U3 : -0.0042\n",
        "U4 : -0.0058\n",
        "U5 :  0.1226\n",
        "\n",
        "Q_on [GPa] : \n",
        "[[ 181.8111    2.8969    0.0000]\n",
        " [   2.8969   10.3462    0.0000]\n",
        " [   0.0000    0.0000    7.1700]]\n",
        "U's for Q [GPa]\n",
        "U1 : 76.3682\n",
        "U2 : 85.7325\n",
        "U3 : 19.7104\n",
        "U4 : 22.6074\n",
        "U5 : 26.8804\n",
        "\n",
        "\n",
        "\n"
       ]
      }
     ],
     "prompt_number": 7
    },
    {
     "cell_type": "markdown",
     "metadata": {},
     "source": [
      "**Overall in-plane modulus and compliance matrices :**"
     ]
    },
    {
     "cell_type": "code",
     "collapsed": false,
     "input": [
      "print laminate_q1.print_A()"
     ],
     "language": "python",
     "metadata": {},
     "outputs": [
      {
       "output_type": "stream",
       "stream": "stdout",
       "text": [
        "A [GN/m] : \n",
        "[[   0.2010    0.0265    0.0000]\n",
        " [   0.0265    0.0924    0.0000]\n",
        " [   0.0000    0.0000    0.0340]]\n",
        "a [m/GN] : \n",
        "[[   5.1708   -1.4817    0.0000]\n",
        " [  -1.4817   11.2418   -0.0000]\n",
        " [   0.0000   -0.0000   29.4384]]\n"
       ]
      }
     ],
     "prompt_number": 8
    },
    {
     "cell_type": "markdown",
     "metadata": {},
     "source": [
      "**Applied resultant stress: **"
     ]
    },
    {
     "cell_type": "code",
     "collapsed": false,
     "input": [
      "import numpy\n",
      "from composites.floatformat import floatformat\n",
      "from composites.sim import transform_stress, transform_strain\n",
      "numpy.set_printoptions(formatter = {'float_kind':floatformat}, \n",
      "\t\t\t\t\t\t\t\t\t\t\t\t\tsuppress = True\n",
      "\t\t\t\t\t\t\t\t\t\t\t\t\t)\n",
      "load = numpy.array([450000,-110000,-130000],dtype=float)\n",
      "load = load*10**-6\n",
      "print \"Load [MN/m] : \"\n",
      "print load.reshape((3,1))\n",
      "off_stress_norm = load*10**-3"
     ],
     "language": "python",
     "metadata": {},
     "outputs": [
      {
       "output_type": "stream",
       "stream": "stdout",
       "text": [
        "Load [MN/m] : \n",
        "[[   0.4500]\n",
        " [  -0.1100]\n",
        " [  -0.1300]]\n"
       ]
      }
     ],
     "prompt_number": 9
    },
    {
     "cell_type": "markdown",
     "metadata": {},
     "source": [
      "**Off-axis strain using overall in-plane compliance matrix : **"
     ]
    },
    {
     "cell_type": "code",
     "collapsed": false,
     "input": [
      "# print laminate_q1.a\n",
      "# print load\n",
      "# print laminate_q1.a.dot(load)\n",
      "# print 0.0052*load[0]-0.0015*load[1]\n",
      "# laminate_q1.a.dot(load)\n",
      "print \"Off-axis strain [-] :\"\n",
      "off_strain = laminate_q1.a.dot(off_stress_norm).reshape((3,1))\n",
      "print off_strain"
     ],
     "language": "python",
     "metadata": {},
     "outputs": [
      {
       "output_type": "stream",
       "stream": "stdout",
       "text": [
        "Off-axis strain [-] :\n",
        "[[   0.0025]\n",
        " [  -0.0019]\n",
        " [  -0.0038]]\n"
       ]
      }
     ],
     "prompt_number": 10
    },
    {
     "cell_type": "markdown",
     "metadata": {},
     "source": [
      "**On-axis strain and on-axis stress [GPa] for each layer using transformation.**\n",
      "\n",
      "    On-axis strain is found by transforming the off-axis strain. \n",
      "    \n",
      "    On-axis stress is found with the on-axis modulus matrix."
     ]
    },
    {
     "cell_type": "code",
     "collapsed": false,
     "input": [
      "counter = 1\n",
      "# for i in range(len(laminate_q1.layers)):\n",
      "for i in range(14):\n",
      "    layer = laminate_q1.layers[i]\n",
      "    print \"Layer number : %d\" % (i+1)\n",
      "    counter += 1\n",
      "    print \"Orientation  : %d [degrees]\" % layer.theta\n",
      "    print \"On-axis Strain :\"\n",
      "    on_strain = transform_strain(off_strain,'off',layer.theta)\n",
      "    print on_strain\n",
      "    \n",
      "    print \"On-axis Stress\"\n",
      "    on_stress_Q = laminate_q1.layers[0].Q_on.dot(on_strain)\n",
      "    print on_stress_Q\n",
      "    \n",
      "    print \"\\n\""
     ],
     "language": "python",
     "metadata": {},
     "outputs": [
      {
       "output_type": "stream",
       "stream": "stdout",
       "text": [
        "Layer number : 1\n",
        "Orientation  : 10 [degrees]\n",
        "On-axis Strain :\n",
        "[   0.0017   -0.0011   -0.0051]\n",
        "On-axis Stress\n",
        "[   0.3064   -0.0066   -0.0366]\n",
        "\n",
        "\n",
        "Layer number : 2\n",
        "Orientation  : -10 [degrees]\n",
        "On-axis Strain :\n",
        "[   0.0030   -0.0024   -0.0021]\n",
        "On-axis Stress\n",
        "[   0.5406   -0.0164   -0.0150]\n",
        "\n",
        "\n",
        "Layer number : 3\n",
        "Orientation  : 90 [degrees]\n",
        "On-axis Strain :\n",
        "[  -0.0019    0.0025    0.0038]\n",
        "On-axis Stress\n",
        "[  -0.3388    0.0202    0.0274]\n",
        "\n",
        "\n",
        "Layer number : 4\n",
        "Orientation  : 0 [degrees]\n",
        "On-axis Strain :\n",
        "[   0.0025   -0.0019   -0.0038]\n",
        "On-axis Stress\n",
        "[   0.4472   -0.0125   -0.0274]\n",
        "\n",
        "\n",
        "Layer number : 5\n",
        "Orientation  : 0 [degrees]\n",
        "On-axis Strain :\n",
        "[   0.0025   -0.0019   -0.0038]\n",
        "On-axis Stress\n",
        "[   0.4472   -0.0125   -0.0274]\n",
        "\n",
        "\n",
        "Layer number : 6\n",
        "Orientation  : 50 [degrees]\n",
        "On-axis Strain :\n",
        "[  -0.0020    0.0026   -0.0037]\n",
        "On-axis Stress\n",
        "[  -0.3512    0.0208   -0.0263]\n",
        "\n",
        "\n",
        "Layer number : 7\n",
        "Orientation  : -50 [degrees]\n",
        "On-axis Strain :\n",
        "[   0.0018   -0.0012    0.0050]\n",
        "On-axis Stress\n",
        "[   0.3231   -0.0073    0.0358]\n",
        "\n",
        "\n",
        "Layer number : 8\n",
        "Orientation  : -50 [degrees]\n",
        "On-axis Strain :\n",
        "[   0.0018   -0.0012    0.0050]\n",
        "On-axis Stress\n",
        "[   0.3231   -0.0073    0.0358]\n",
        "\n",
        "\n",
        "Layer number : 9\n",
        "Orientation  : 50 [degrees]\n",
        "On-axis Strain :\n",
        "[  -0.0020    0.0026   -0.0037]\n",
        "On-axis Stress\n",
        "[  -0.3512    0.0208   -0.0263]\n",
        "\n",
        "\n",
        "Layer number : 10\n",
        "Orientation  : 0 [degrees]\n",
        "On-axis Strain :\n",
        "[   0.0025   -0.0019   -0.0038]\n",
        "On-axis Stress\n",
        "[   0.4472   -0.0125   -0.0274]\n",
        "\n",
        "\n",
        "Layer number : 11\n",
        "Orientation  : 0 [degrees]\n",
        "On-axis Strain :\n",
        "[   0.0025   -0.0019   -0.0038]\n",
        "On-axis Stress\n",
        "[   0.4472   -0.0125   -0.0274]\n",
        "\n",
        "\n",
        "Layer number : 12\n",
        "Orientation  : 90 [degrees]\n",
        "On-axis Strain :\n",
        "[  -0.0019    0.0025    0.0038]\n",
        "On-axis Stress\n",
        "[  -0.3388    0.0202    0.0274]\n",
        "\n",
        "\n",
        "Layer number : 13\n",
        "Orientation  : -10 [degrees]\n",
        "On-axis Strain :\n",
        "[   0.0030   -0.0024   -0.0021]\n",
        "On-axis Stress\n",
        "[   0.5406   -0.0164   -0.0150]\n",
        "\n",
        "\n",
        "Layer number : 14\n",
        "Orientation  : 10 [degrees]\n",
        "On-axis Strain :\n",
        "[   0.0017   -0.0011   -0.0051]\n",
        "On-axis Stress\n",
        "[   0.3064   -0.0066   -0.0366]\n",
        "\n",
        "\n"
       ]
      }
     ],
     "prompt_number": 11
    }
   ],
   "metadata": {}
  }
 ]
}