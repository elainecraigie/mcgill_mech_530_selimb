{
 "metadata": {
  "name": "",
  "signature": "sha256:e0f4ec829ff2cccf757690d1fe3de9b40c5ddc28caf38c62a79c30778c2264af"
 },
 "nbformat": 3,
 "nbformat_minor": 0,
 "worksheets": [
  {
   "cells": [
    {
     "cell_type": "markdown",
     "metadata": {},
     "source": [
      "Question 1\n",
      "-----------"
     ]
    },
    {
     "cell_type": "code",
     "collapsed": false,
     "input": [
      "from composites.laminate import Laminate"
     ],
     "language": "python",
     "metadata": {},
     "outputs": [],
     "prompt_number": 3
    },
    {
     "cell_type": "code",
     "collapsed": false,
     "input": [
      "laminate_q1 = Laminate('45/0/-45/90s',\n",
      "                       materialID = 4,\n",
      "                       compute = 'smart')"
     ],
     "language": "python",
     "metadata": {},
     "outputs": [],
     "prompt_number": 4
    },
    {
     "cell_type": "markdown",
     "metadata": {},
     "source": [
      "**Orientation list : **"
     ]
    },
    {
     "cell_type": "code",
     "collapsed": false,
     "input": [
      "print laminate_q1.print_orientation(display = False);"
     ],
     "language": "python",
     "metadata": {},
     "outputs": [
      {
       "output_type": "stream",
       "stream": "stdout",
       "text": [
        "Orientation [degrees] : \n",
        "[45, 0, -45, 90, 90, -45, 0, 45]\n"
       ]
      }
     ],
     "prompt_number": 5
    },
    {
     "cell_type": "markdown",
     "metadata": {},
     "source": [
      "**Number of plies : **"
     ]
    },
    {
     "cell_type": "code",
     "collapsed": false,
     "input": [
      "# print \"Total number of plies: \"\n",
      "print len(laminate_q1.layers)"
     ],
     "language": "python",
     "metadata": {},
     "outputs": [
      {
       "output_type": "stream",
       "stream": "stdout",
       "text": [
        "8\n"
       ]
      }
     ],
     "prompt_number": 6
    },
    {
     "cell_type": "markdown",
     "metadata": {},
     "source": [
      "**Material properties :**"
     ]
    },
    {
     "cell_type": "code",
     "collapsed": false,
     "input": [
      "params = laminate_q1.print_param(display = False);\n",
      "print params"
     ],
     "language": "python",
     "metadata": {},
     "outputs": [
      {
       "output_type": "stream",
       "stream": "stdout",
       "text": [
        "'          ID :              4  [-]'\n",
        "'fiber/matrix :    Kev49/Epoxy  [-]'\n",
        "'        name :   Kevlar/Epoxy  [-]'\n",
        "'          ex :        76.0000  [GPA]'\n",
        "'          ey :         5.5000  [GPA]'\n",
        "'          es :         2.3000  [GPA]'\n",
        "'         nux :         0.3400  [-]'\n",
        "'          xt :      1400.0000  [MPA]'\n",
        "'          xc :       235.0000  [MPA]'\n",
        "'          yt :        12.0000  [MPA]'\n",
        "'          yc :        53.0000  [MPA]'\n",
        "'          sc :        34.0000  [MPA]'\n",
        "'          h0 :         0.1250  [mm]'\n",
        "'         nuy :         0.0246  [-]'\n",
        "\n"
       ]
      }
     ],
     "prompt_number": 7
    },
    {
     "cell_type": "markdown",
     "metadata": {},
     "source": [
      "**Modulus and Compliance on-axis matrices :**"
     ]
    },
    {
     "cell_type": "code",
     "collapsed": false,
     "input": [
      "QS_on = laminate_q1.print_array('QSon',1,display = False)\n",
      "print QS_on"
     ],
     "language": "python",
     "metadata": {},
     "outputs": [
      {
       "output_type": "stream",
       "stream": "stdout",
       "text": [
        "Layer number : 1\n",
        "Orientation  : 45 [degrees]\n",
        "\n",
        "S_on [1/GPa] : \n",
        "[[   0.0132   -0.0045    0.0000]\n",
        " [  -0.0045    0.1818    0.0000]\n",
        " [   0.0000    0.0000    0.4348]]\n",
        "\n",
        "Q_on [GPa] : \n",
        "[[  76.6412    1.8858    0.0000]\n",
        " [   1.8858    5.5464    0.0000]\n",
        " [   0.0000    0.0000    2.3000]]\n",
        "\n",
        "\n"
       ]
      }
     ],
     "prompt_number": 8
    },
    {
     "cell_type": "markdown",
     "metadata": {},
     "source": [
      "**Modulus and Compliance off-axis matrices.**"
     ]
    },
    {
     "cell_type": "code",
     "collapsed": false,
     "input": [
      "QS_off = laminate_q1.print_array('QSoff',4,display = False)\n",
      "print QS_off"
     ],
     "language": "python",
     "metadata": {},
     "outputs": [
      {
       "output_type": "stream",
       "stream": "stdout",
       "text": [
        "----------------------------------------\n",
        "Layer number : 1\n",
        "Orientation  : 45 [degrees]\n",
        "\n",
        "U's for S [1/GPa]\n",
        "U1 :  0.1263\n",
        "U2 : -0.0843\n",
        "U3 : -0.0289\n",
        "U4 : -0.0333\n",
        "U5 :  0.3194\n",
        "S_off [1/GPa] : \n",
        "[[   0.1552   -0.0622   -0.0843]\n",
        " [  -0.0622    0.1552   -0.0843]\n",
        " [  -0.0843   -0.0843    0.2039]]\n",
        "\n",
        "U's for Q [GPa]\n",
        "U1 : 32.4418\n",
        "U2 : 35.5474\n",
        "U3 :  8.6520\n",
        "U4 : 10.5378\n",
        "U5 : 10.9520\n",
        "Q_off [GPa] : \n",
        "[[  23.7898   19.1898   17.7737]\n",
        " [  19.1898   23.7898   17.7737]\n",
        " [  17.7737   17.7737   19.6040]]\n",
        "\n",
        "----------------------------------------\n",
        "Layer number : 2\n",
        "Orientation  : 0 [degrees]\n",
        "\n",
        "U's for S [1/GPa]\n",
        "U1 :  0.1263\n",
        "U2 : -0.0843\n",
        "U3 : -0.0289\n",
        "U4 : -0.0333\n",
        "U5 :  0.3194\n",
        "S_off [1/GPa] : \n",
        "[[   0.0132   -0.0045    0.0000]\n",
        " [  -0.0045    0.1818    0.0000]\n",
        " [   0.0000    0.0000    0.4348]]\n",
        "\n",
        "U's for Q [GPa]\n",
        "U1 : 32.4418\n",
        "U2 : 35.5474\n",
        "U3 :  8.6520\n",
        "U4 : 10.5378\n",
        "U5 : 10.9520\n",
        "Q_off [GPa] : \n",
        "[[  76.6412    1.8858    0.0000]\n",
        " [   1.8858    5.5464    0.0000]\n",
        " [   0.0000    0.0000    2.3000]]\n",
        "\n",
        "----------------------------------------\n",
        "Layer number : 3\n",
        "Orientation  : -45 [degrees]\n",
        "\n",
        "U's for S [1/GPa]\n",
        "U1 :  0.1263\n",
        "U2 : -0.0843\n",
        "U3 : -0.0289\n",
        "U4 : -0.0333\n",
        "U5 :  0.3194\n",
        "S_off [1/GPa] : \n",
        "[[   0.1552   -0.0622    0.0843]\n",
        " [  -0.0622    0.1552    0.0843]\n",
        " [   0.0843    0.0843    0.2039]]\n",
        "\n",
        "U's for Q [GPa]\n",
        "U1 : 32.4418\n",
        "U2 : 35.5474\n",
        "U3 :  8.6520\n",
        "U4 : 10.5378\n",
        "U5 : 10.9520\n",
        "Q_off [GPa] : \n",
        "[[  23.7898   19.1898  -17.7737]\n",
        " [  19.1898   23.7898  -17.7737]\n",
        " [ -17.7737  -17.7737   19.6040]]\n",
        "\n",
        "----------------------------------------\n",
        "Layer number : 4\n",
        "Orientation  : 90 [degrees]\n",
        "\n",
        "U's for S [1/GPa]\n",
        "U1 :  0.1263\n",
        "U2 : -0.0843\n",
        "U3 : -0.0289\n",
        "U4 : -0.0333\n",
        "U5 :  0.3194\n",
        "S_off [1/GPa] : \n",
        "[[   0.1818   -0.0045    0.0000]\n",
        " [  -0.0045    0.0132   -0.0000]\n",
        " [   0.0000   -0.0000    0.4348]]\n",
        "\n",
        "U's for Q [GPa]\n",
        "U1 : 32.4418\n",
        "U2 : 35.5474\n",
        "U3 :  8.6520\n",
        "U4 : 10.5378\n",
        "U5 : 10.9520\n",
        "Q_off [GPa] : \n",
        "[[   5.5464    1.8858    0.0000]\n",
        " [   1.8858   76.6412    0.0000]\n",
        " [   0.0000    0.0000    2.3000]]\n",
        "\n",
        "\n"
       ]
      }
     ],
     "prompt_number": 9
    },
    {
     "cell_type": "markdown",
     "metadata": {},
     "source": [
      "Question 2\n",
      "==========="
     ]
    },
    {
     "cell_type": "code",
     "collapsed": false,
     "input": [
      "laminate_q2 = Laminate('30', \n",
      "                       materialID = 4, \n",
      "                       compute = 'smart')"
     ],
     "language": "python",
     "metadata": {},
     "outputs": [],
     "prompt_number": 10
    },
    {
     "cell_type": "markdown",
     "metadata": {},
     "source": [
      "**Orientation : **"
     ]
    },
    {
     "cell_type": "code",
     "collapsed": false,
     "input": [
      "orientation = laminate_q2.print_orientation(display = False);\n",
      "print orientation"
     ],
     "language": "python",
     "metadata": {},
     "outputs": [
      {
       "output_type": "stream",
       "stream": "stdout",
       "text": [
        "Orientation [degrees] : \n",
        "[30]\n"
       ]
      }
     ],
     "prompt_number": 11
    },
    {
     "cell_type": "markdown",
     "metadata": {},
     "source": [
      "**Number of plies : **"
     ]
    },
    {
     "cell_type": "code",
     "collapsed": false,
     "input": [
      "print \"Total number of plies: \"\n",
      "print len(laminate_q2.layers)"
     ],
     "language": "python",
     "metadata": {},
     "outputs": [
      {
       "output_type": "stream",
       "stream": "stdout",
       "text": [
        "Total number of plies: \n",
        "1\n"
       ]
      }
     ],
     "prompt_number": 12
    },
    {
     "cell_type": "markdown",
     "metadata": {},
     "source": [
      "**Material properties : **"
     ]
    },
    {
     "cell_type": "code",
     "collapsed": false,
     "input": [
      "params = laminate_q2.print_param(display = False);\n",
      "print params"
     ],
     "language": "python",
     "metadata": {},
     "outputs": [
      {
       "output_type": "stream",
       "stream": "stdout",
       "text": [
        "'          ID :              4  [-]'\n",
        "'fiber/matrix :    Kev49/Epoxy  [-]'\n",
        "'        name :   Kevlar/Epoxy  [-]'\n",
        "'          ex :        76.0000  [GPA]'\n",
        "'          ey :         5.5000  [GPA]'\n",
        "'          es :         2.3000  [GPA]'\n",
        "'         nux :         0.3400  [-]'\n",
        "'          xt :      1400.0000  [MPA]'\n",
        "'          xc :       235.0000  [MPA]'\n",
        "'          yt :        12.0000  [MPA]'\n",
        "'          yc :        53.0000  [MPA]'\n",
        "'          sc :        34.0000  [MPA]'\n",
        "'          h0 :         0.1250  [mm]'\n",
        "'         nuy :         0.0246  [-]'\n",
        "\n"
       ]
      }
     ],
     "prompt_number": 13
    },
    {
     "cell_type": "markdown",
     "metadata": {},
     "source": [
      "**Modulus and Compliance on-axis matrices :**"
     ]
    },
    {
     "cell_type": "code",
     "collapsed": false,
     "input": [
      "QS_on = laminate_q2.print_array('QSon',1,display = False)\n",
      "print QS_on"
     ],
     "language": "python",
     "metadata": {},
     "outputs": [
      {
       "output_type": "stream",
       "stream": "stdout",
       "text": [
        "Layer number : 1\n",
        "Orientation  : 30 [degrees]\n",
        "\n",
        "S_on [1/GPa] : \n",
        "[[   0.0132   -0.0045    0.0000]\n",
        " [  -0.0045    0.1818    0.0000]\n",
        " [   0.0000    0.0000    0.4348]]\n",
        "\n",
        "Q_on [GPa] : \n",
        "[[  76.6412    1.8858    0.0000]\n",
        " [   1.8858    5.5464    0.0000]\n",
        " [   0.0000    0.0000    2.3000]]\n",
        "\n",
        "\n"
       ]
      }
     ],
     "prompt_number": 14
    },
    {
     "cell_type": "markdown",
     "metadata": {},
     "source": [
      "**Modulus and Compliance off-axis matrices :**"
     ]
    },
    {
     "cell_type": "code",
     "collapsed": false,
     "input": [
      "QS_off = laminate_q2.print_array('QSoff',4,display = False)\n",
      "print QS_off"
     ],
     "language": "python",
     "metadata": {},
     "outputs": [
      {
       "output_type": "stream",
       "stream": "stdout",
       "text": [
        "----------------------------------------\n",
        "Layer number : 1\n",
        "Orientation  : 30 [degrees]\n",
        "\n",
        "U's for S [1/GPa]\n",
        "U1 :  0.1263\n",
        "U2 : -0.0843\n",
        "U3 : -0.0289\n",
        "U4 : -0.0333\n",
        "U5 :  0.3194\n",
        "S_off [1/GPa] : \n",
        "[[   0.0986   -0.0478   -0.1230]\n",
        " [  -0.0478    0.1829   -0.0230]\n",
        " [  -0.1230   -0.0230    0.2616]]\n",
        "\n",
        "U's for Q [GPa]\n",
        "U1 : 32.4418\n",
        "U2 : 35.5474\n",
        "U3 :  8.6520\n",
        "U4 : 10.5378\n",
        "U5 : 10.9520\n",
        "Q_off [GPa] : \n",
        "[[  45.8895   14.8638   22.8853]\n",
        " [  14.8638   10.3421    7.8996]\n",
        " [  22.8853    7.8996   15.2780]]\n",
        "\n",
        "\n"
       ]
      }
     ],
     "prompt_number": 15
    },
    {
     "cell_type": "markdown",
     "metadata": {},
     "source": [
      "**Load [GPa] : **"
     ]
    },
    {
     "cell_type": "code",
     "collapsed": false,
     "input": [
      "import numpy\n",
      "from composites.floatformat import floatformat\n",
      "from composites.transform import transform_stress, transform_strain\n",
      "numpy.set_printoptions(formatter = {'float_kind':floatformat}, \n",
      "\t\t\t\t\t\t\t\t\t\t\t\t\tsuppress = True\n",
      "\t\t\t\t\t\t\t\t\t\t\t\t\t)\n",
      "load = numpy.array([420,-165,135],dtype=float)\n",
      "load = load/1000\n",
      "print load.reshape((3,1))"
     ],
     "language": "python",
     "metadata": {},
     "outputs": [
      {
       "output_type": "stream",
       "stream": "stdout",
       "text": [
        "[[   0.4200]\n",
        " [  -0.1650]\n",
        " [   0.1350]]\n"
       ]
      }
     ],
     "prompt_number": 20
    },
    {
     "cell_type": "markdown",
     "metadata": {},
     "source": [
      "**Two different ways of obtaining off-axis strain**\n",
      "\n",
      "1.  Use off-axis compliance matrix \n",
      "2.  Transform stress, use on-axis compliance matrix and transform strain.  "
     ]
    },
    {
     "cell_type": "markdown",
     "metadata": {},
     "source": [
      "Method 1\n",
      "---------\n",
      "\n",
      "**On-axis stress [GPa] using stress transformation : **"
     ]
    },
    {
     "cell_type": "code",
     "collapsed": false,
     "input": [
      "on_stress = transform_stress(load,'off',30)\n",
      "print on_stress.reshape((3,1))"
     ],
     "language": "python",
     "metadata": {},
     "outputs": [
      {
       "output_type": "stream",
       "stream": "stdout",
       "text": [
        "[[   0.3907]\n",
        " [  -0.1357]\n",
        " [  -0.1858]]\n"
       ]
      }
     ],
     "prompt_number": 21
    },
    {
     "cell_type": "markdown",
     "metadata": {},
     "source": [
      "**On-axis strain [-] using on-axis compliance matrix: **"
     ]
    },
    {
     "cell_type": "code",
     "collapsed": false,
     "input": [
      "on_strain = laminate_q2.layers[0].S_on.dot(on_stress)\n",
      "print on_strain.reshape((3,1))"
     ],
     "language": "python",
     "metadata": {},
     "outputs": [
      {
       "output_type": "stream",
       "stream": "stdout",
       "text": [
        "[[   0.0057]\n",
        " [  -0.0264]\n",
        " [  -0.0808]]\n"
       ]
      }
     ],
     "prompt_number": 23
    },
    {
     "cell_type": "markdown",
     "metadata": {},
     "source": [
      "**Off-axis strain [-] using strain transformation : **"
     ]
    },
    {
     "cell_type": "code",
     "collapsed": false,
     "input": [
      "off_strain = transform_strain(on_strain,'on',30)\n",
      "print off_strain.reshape((3,1))"
     ],
     "language": "python",
     "metadata": {},
     "outputs": [
      {
       "output_type": "stream",
       "stream": "stdout",
       "text": [
        "[[   0.0327]\n",
        " [  -0.0534]\n",
        " [  -0.0125]]\n"
       ]
      }
     ],
     "prompt_number": 24
    },
    {
     "cell_type": "markdown",
     "metadata": {},
     "source": [
      "Method 2\n",
      "--------\n",
      "\n",
      "**Off-axis strain [-] using off-axis compliance matrix**"
     ]
    },
    {
     "cell_type": "code",
     "collapsed": false,
     "input": [
      "off_strain_2 = laminate_q2.layers[0].S_off.dot(load)\n",
      "print off_strain.reshape((3,1))"
     ],
     "language": "python",
     "metadata": {},
     "outputs": [
      {
       "output_type": "stream",
       "stream": "stdout",
       "text": [
        "[[   0.0327]\n",
        " [  -0.0534]\n",
        " [  -0.0125]]\n"
       ]
      }
     ],
     "prompt_number": 26
    }
   ],
   "metadata": {}
  }
 ]
}