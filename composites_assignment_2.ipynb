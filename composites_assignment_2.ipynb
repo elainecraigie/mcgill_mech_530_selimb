{
 "metadata": {
  "name": "",
  "signature": "sha256:9ac1582b77a248b671526501391ca5a2963993a1ba45a7ec441a527682f798d1"
 },
 "nbformat": 3,
 "nbformat_minor": 0,
 "worksheets": [
  {
   "cells": [
    {
     "cell_type": "markdown",
     "metadata": {},
     "source": [
      "Question 1)\n",
      "-----------"
     ]
    },
    {
     "cell_type": "code",
     "collapsed": false,
     "input": [
      "from composites.laminate import Laminate"
     ],
     "language": "python",
     "metadata": {},
     "outputs": [],
     "prompt_number": 1
    },
    {
     "cell_type": "code",
     "collapsed": false,
     "input": [
      "laminate_q1 = Laminate('45/0/-45/90s',\n",
      "                       materialID = 4,\n",
      "                       compute = 'smart')"
     ],
     "language": "python",
     "metadata": {},
     "outputs": [],
     "prompt_number": 2
    },
    {
     "cell_type": "code",
     "collapsed": false,
     "input": [
      "print laminate_q1.print_orientation(display = False);"
     ],
     "language": "python",
     "metadata": {},
     "outputs": [
      {
       "output_type": "stream",
       "stream": "stdout",
       "text": [
        "Orientation [degrees] : \n",
        "[45, 0, -45, 90, 90, -45, 0, 45]\n"
       ]
      }
     ],
     "prompt_number": 3
    },
    {
     "cell_type": "code",
     "collapsed": false,
     "input": [
      "print \"Total number of plies: \"\n",
      "print len(laminate_q1.layers)"
     ],
     "language": "python",
     "metadata": {},
     "outputs": [
      {
       "output_type": "stream",
       "stream": "stdout",
       "text": [
        "Total number of plies: \n",
        "8\n"
       ]
      }
     ],
     "prompt_number": 4
    },
    {
     "cell_type": "code",
     "collapsed": false,
     "input": [
      "params = laminate_q1.print_param(display = False);\n",
      "print params"
     ],
     "language": "python",
     "metadata": {},
     "outputs": [
      {
       "output_type": "stream",
       "stream": "stdout",
       "text": [
        "'          ID :              4  [-]'\n",
        "'fiber/matrix :    Kev49/Epoxy  [-]'\n",
        "'        name :   Kevlar/Epoxy  [-]'\n",
        "'          ex :        76.0000  [GPA]'\n",
        "'          ey :         5.5000  [GPA]'\n",
        "'          es :         2.3000  [GPA]'\n",
        "'         nux :         0.3400  [-]'\n",
        "'          xt :      1400.0000  [MPA]'\n",
        "'          xc :       235.0000  [MPA]'\n",
        "'          yt :        12.0000  [MPA]'\n",
        "'          yc :        53.0000  [MPA]'\n",
        "'          sc :        34.0000  [MPA]'\n",
        "'          h0 :         0.1250  [mm]'\n",
        "'         nuy :         0.0246  [-]'\n",
        "\n"
       ]
      }
     ],
     "prompt_number": 5
    },
    {
     "cell_type": "code",
     "collapsed": false,
     "input": [
      "QS_on = laminate_q1.print_array('QSon',1,display = False)\n",
      "print QS_on"
     ],
     "language": "python",
     "metadata": {},
     "outputs": [
      {
       "output_type": "stream",
       "stream": "stdout",
       "text": [
        "Layer number : 1\n",
        "Orientation  : 45 [degrees]\n",
        "\n",
        "S_on [1/GPa] : \n",
        "[[  0.0132  -0.0045   0.0000]\n",
        " [ -0.0045   0.1818   0.0000]\n",
        " [  0.0000   0.0000   0.4348]]\n",
        "\n",
        "Q_on [GPa] : \n",
        "[[ 76.6412   1.8858   0.0000]\n",
        " [  1.8858   5.5464   0.0000]\n",
        " [  0.0000   0.0000   2.3000]]\n",
        "\n",
        "\n"
       ]
      }
     ],
     "prompt_number": 6
    },
    {
     "cell_type": "code",
     "collapsed": false,
     "input": [
      "QS_off = laminate_q1.print_array('QSoff',4,display = False)\n",
      "print QS_off"
     ],
     "language": "python",
     "metadata": {},
     "outputs": [
      {
       "output_type": "stream",
       "stream": "stdout",
       "text": [
        "--------------------------------------------------------------------------------\n",
        "Layer number : 1\n",
        "Orientation  : 45 [degrees]\n",
        "\n",
        "U's for S [1/GPa]\n",
        "U1 :  0.1263\n",
        "U2 : -0.0843\n",
        "U3 : -0.0289\n",
        "U4 : -0.0333\n",
        "U5 :  0.3194\n",
        "S_off [1/GPa] : \n",
        "[[  0.1552  -0.0622  -0.0843]\n",
        " [ -0.0622   0.1552  -0.0843]\n",
        " [ -0.0843  -0.0843   0.2039]]\n",
        "\n",
        "U's for Q [GPa]\n",
        "U1 : 32.4418\n",
        "U2 : 35.5474\n",
        "U3 :  8.6520\n",
        "U4 : 10.5378\n",
        "U5 : 10.9520\n",
        "Q_off [GPa] : \n",
        "[[ 23.7898  19.1898  17.7737]\n",
        " [ 19.1898  23.7898  17.7737]\n",
        " [ 17.7737  17.7737  19.6040]]\n",
        "\n",
        "--------------------------------------------------------------------------------\n",
        "Layer number : 2\n",
        "Orientation  : 0 [degrees]\n",
        "\n",
        "U's for S [1/GPa]\n",
        "U1 :  0.1263\n",
        "U2 : -0.0843\n",
        "U3 : -0.0289\n",
        "U4 : -0.0333\n",
        "U5 :  0.3194\n",
        "S_off [1/GPa] : \n",
        "[[  0.0132  -0.0045   0.0000]\n",
        " [ -0.0045   0.1818   0.0000]\n",
        " [  0.0000   0.0000   0.4348]]\n",
        "\n",
        "U's for Q [GPa]\n",
        "U1 : 32.4418\n",
        "U2 : 35.5474\n",
        "U3 :  8.6520\n",
        "U4 : 10.5378\n",
        "U5 : 10.9520\n",
        "Q_off [GPa] : \n",
        "[[ 76.6412   1.8858   0.0000]\n",
        " [  1.8858   5.5464   0.0000]\n",
        " [  0.0000   0.0000   2.3000]]\n",
        "\n",
        "--------------------------------------------------------------------------------\n",
        "Layer number : 3\n",
        "Orientation  : -45 [degrees]\n",
        "\n",
        "U's for S [1/GPa]\n",
        "U1 :  0.1263\n",
        "U2 : -0.0843\n",
        "U3 : -0.0289\n",
        "U4 : -0.0333\n",
        "U5 :  0.3194\n",
        "S_off [1/GPa] : \n",
        "[[  0.1552  -0.0622   0.0843]\n",
        " [ -0.0622   0.1552   0.0843]\n",
        " [  0.0843   0.0843   0.2039]]\n",
        "\n",
        "U's for Q [GPa]\n",
        "U1 : 32.4418\n",
        "U2 : 35.5474\n",
        "U3 :  8.6520\n",
        "U4 : 10.5378\n",
        "U5 : 10.9520\n",
        "Q_off [GPa] : \n",
        "[[ 23.7898  19.1898 -17.7737]\n",
        " [ 19.1898  23.7898 -17.7737]\n",
        " [-17.7737 -17.7737  19.6040]]\n",
        "\n",
        "--------------------------------------------------------------------------------\n",
        "Layer number : 4\n",
        "Orientation  : 90 [degrees]\n",
        "\n",
        "U's for S [1/GPa]\n",
        "U1 :  0.1263\n",
        "U2 : -0.0843\n",
        "U3 : -0.0289\n",
        "U4 : -0.0333\n",
        "U5 :  0.3194\n",
        "S_off [1/GPa] : \n",
        "[[  0.1818  -0.0045   0.0000]\n",
        " [ -0.0045   0.0132  -0.0000]\n",
        " [  0.0000  -0.0000   0.4348]]\n",
        "\n",
        "U's for Q [GPa]\n",
        "U1 : 32.4418\n",
        "U2 : 35.5474\n",
        "U3 :  8.6520\n",
        "U4 : 10.5378\n",
        "U5 : 10.9520\n",
        "Q_off [GPa] : \n",
        "[[  5.5464   1.8858   0.0000]\n",
        " [  1.8858  76.6412   0.0000]\n",
        " [  0.0000   0.0000   2.3000]]\n",
        "\n",
        "\n"
       ]
      }
     ],
     "prompt_number": 14
    },
    {
     "cell_type": "markdown",
     "metadata": {},
     "source": [
      "Question 2)\n",
      "-----------"
     ]
    },
    {
     "cell_type": "code",
     "collapsed": false,
     "input": [
      "laminate_q2 = Laminate('30', \n",
      "                       materialID = 2, \n",
      "                       compute = 'smart')"
     ],
     "language": "python",
     "metadata": {},
     "outputs": [],
     "prompt_number": 8
    },
    {
     "cell_type": "code",
     "collapsed": false,
     "input": [
      "orientation = laminate_q2.print_orientation(display = False);\n",
      "print orientation"
     ],
     "language": "python",
     "metadata": {},
     "outputs": [
      {
       "output_type": "stream",
       "stream": "stdout",
       "text": [
        "Orientation [degrees] : \n",
        "[30]\n"
       ]
      }
     ],
     "prompt_number": 9
    },
    {
     "cell_type": "code",
     "collapsed": false,
     "input": [
      "print \"Total number of plies: \"\n",
      "print len(laminate_q2.layers)"
     ],
     "language": "python",
     "metadata": {},
     "outputs": [
      {
       "output_type": "stream",
       "stream": "stdout",
       "text": [
        "Total number of plies: \n",
        "1\n"
       ]
      }
     ],
     "prompt_number": 10
    },
    {
     "cell_type": "code",
     "collapsed": false,
     "input": [
      "params = laminate_q2.print_param(display = False);\n",
      "print params"
     ],
     "language": "python",
     "metadata": {},
     "outputs": [
      {
       "output_type": "stream",
       "stream": "stdout",
       "text": [
        "'          ID :              2  [-]'\n",
        "'fiber/matrix :       AS/H3501  [-]'\n",
        "'        name : Graphite/Epoxy  [-]'\n",
        "'          ex :       138.0000  [GPA]'\n",
        "'          ey :         8.9600  [GPA]'\n",
        "'          es :         7.1000  [GPA]'\n",
        "'         nux :         0.3000  [-]'\n",
        "'          xt :      1447.0000  [MPA]'\n",
        "'          xc :      1447.0000  [MPA]'\n",
        "'          yt :        51.7000  [MPA]'\n",
        "'          yc :       206.0000  [MPA]'\n",
        "'          sc :        93.0000  [MPA]'\n",
        "'          h0 :         0.1250  [mm]'\n",
        "'         nuy :         0.0195  [-]'\n",
        "\n"
       ]
      }
     ],
     "prompt_number": 11
    },
    {
     "cell_type": "code",
     "collapsed": false,
     "input": [
      "QS_on = laminate_q2.print_array('QSon',1,display = False)\n",
      "print QS_on"
     ],
     "language": "python",
     "metadata": {},
     "outputs": [
      {
       "output_type": "stream",
       "stream": "stdout",
       "text": [
        "Layer number : 1\n",
        "Orientation  : 30 [degrees]\n",
        "\n",
        "S_on [1/GPa] : \n",
        "[[  0.0072  -0.0022   0.0000]\n",
        " [ -0.0022   0.1116   0.0000]\n",
        " [  0.0000   0.0000   0.1408]]\n",
        "\n",
        "Q_on [GPa] : \n",
        "[[138.8111   2.7038   0.0000]\n",
        " [  2.7038   9.0127   0.0000]\n",
        " [  0.0000   0.0000   7.1000]]\n",
        "\n",
        "\n"
       ]
      }
     ],
     "prompt_number": 12
    },
    {
     "cell_type": "code",
     "collapsed": false,
     "input": [
      "QS_off = laminate_q2.print_array('QSoff',4,display = False)\n",
      "print QS_off"
     ],
     "language": "python",
     "metadata": {},
     "outputs": [
      {
       "output_type": "stream",
       "stream": "stdout",
       "text": [
        "--------------------------------------------------------------------------------\n",
        "Layer number : 1\n",
        "Orientation  : 30 [degrees]\n",
        "\n",
        "U's for S [1/GPa]\n",
        "U1 :  0.0616\n",
        "U2 : -0.0522\n",
        "U3 : -0.0022\n",
        "U4 : -0.0044\n",
        "U5 :  0.1320\n",
        "S_off [1/GPa] : \n",
        "[[  0.0366  -0.0055  -0.0490]\n",
        " [ -0.0055   0.0888  -0.0414]\n",
        " [ -0.0490  -0.0414   0.1276]]\n",
        "\n",
        "U's for Q [GPa]\n",
        "U1 : 59.6599\n",
        "U2 : 64.8992\n",
        "U3 : 14.2520\n",
        "U4 : 16.9558\n",
        "U5 : 21.3520\n",
        "Q_off [GPa] : \n",
        "[[ 84.9835  24.0818  40.4448]\n",
        " [ 24.0818  20.0842  15.7596]\n",
        " [ 40.4448  15.7596  28.4780]]\n",
        "\n",
        "\n"
       ]
      }
     ],
     "prompt_number": 13
    },
    {
     "cell_type": "code",
     "collapsed": false,
     "input": [],
     "language": "python",
     "metadata": {},
     "outputs": []
    }
   ],
   "metadata": {}
  }
 ]
}